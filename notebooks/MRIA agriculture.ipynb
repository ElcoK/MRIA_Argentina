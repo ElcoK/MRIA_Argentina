{
 "cells": [
  {
   "cell_type": "code",
   "execution_count": null,
   "metadata": {},
   "outputs": [],
   "source": [
    "import os,sys\n",
    "import pyomo\n",
    "import numpy as np\n",
    "import pandas as pd\n",
    "from tqdm import tqdm\n",
    "\n",
    "data_path = os.path.join('..','Data')\n",
    "\n",
    "sys.path.append(os.path.join('..','src'))\n",
    "\n",
    "from national_io import INDEC,GTAP,OECD,EORA\n",
    "from mrio import estimate,prepare_table_mria\n",
    "from mria import MRIA_IO as MRIA\n",
    "from table import io_basic"
   ]
  },
  {
   "cell_type": "code",
   "execution_count": null,
   "metadata": {},
   "outputs": [],
   "source": [
    "output_path = os.path.join('..','results')\n",
    "\n",
    "\"\"\"Specify disruption\"\"\"\n",
    "output_dir = os.path.join(\n",
    "    output_path,\n",
    "    'agriculture_impacts')"
   ]
  },
  {
   "cell_type": "markdown",
   "execution_count": null,
   "metadata": {},
   "outputs": [],
   "source": [
    "### Get regional mapper dictionary, to make everything compatible"
   ]
  },
  {
   "cell_type": "code",
   "execution_count": null,
   "metadata": {},
   "outputs": [],
   "source": [
    "reg_mapper = pd.read_excel(os.path.join(data_path,'INDEC','sh_cou_06_16.xls'),\n",
    "                          sheet_name='reg_mapper',header=None)\n",
    "reg_mapper = dict(zip(reg_mapper[0], reg_mapper[1]))"
   ]
  },
  {
   "cell_type": "markdown",
   "execution_count": null,
   "metadata": {},
   "outputs": [],
   "source": [
    "### Create MRIO table from national database"
   ]
  },
  {
   "cell_type": "code",
   "execution_count": null,
   "metadata": {},
   "outputs": [],
   "source": [
    "#national_IO = INDEC(set_year=2015,save_output=True)\n",
    "#estimate()\n",
    "#prepare_table_mria()"
   ]
  },
  {
   "cell_type": "markdown",
   "execution_count": null,
   "metadata": {},
   "outputs": [],
   "source": [
    "### Create input-output database file to be used with optimization model"
   ]
  },
  {
   "cell_type": "code",
   "execution_count": null,
   "metadata": {},
   "outputs": [],
   "source": [
    "%%time\n",
    "\"\"\" Specify file path \"\"\"\n",
    "filepath = os.path.join(data_path,'MRIO', 'mrio_argentina_disaggregated.xlsx')\n",
    "\n",
    "regions = ['Ciudad de Buenos Aires', 'Buenos Aires', 'Catamarca', 'Cordoba',\n",
    "       'Corrientes', 'Chaco', 'Chubut', 'Entre Rios', 'Formosa', 'Jujuy',\n",
    "       'La Pampa', 'La Rioja', 'Mendoza', 'Misiones', 'Neuquen', 'Rio Negro',\n",
    "       'Salta', 'San Juan', 'San Luis', 'Santa Cruz', 'Santa Fe',\n",
    "       'Santiago del Estero', 'Tucuman', 'Tierra del Fuego']\n",
    "\n",
    "regions = [x.replace(' ','_') for x in regions]\n",
    "\n",
    "\"\"\"Create data input\"\"\"\n",
    "DATA = io_basic('Argentina', filepath,regions)\n",
    "DATA.prep_data()"
   ]
  },
  {
   "cell_type": "markdown",
   "execution_count": null,
   "metadata": {},
   "outputs": [],
   "source": [
    "### RUN MRIA model for all baseline"
   ]
  },
  {
   "cell_type": "code",
   "execution_count": null,
   "metadata": {},
   "outputs": [],
   "source": [
    "%%time\n",
    "\"\"\"Run model and create some output\"\"\"\n",
    "output_in = pd.DataFrame()\n",
    "\n",
    "disr_dict_fd = {}\n",
    "disr_dict_sup = {}\n",
    "\n",
    "for solver in ['ipopt']:\n",
    "    \"\"\"Create model\"\"\"\n",
    "    MRIA_RUN = MRIA(DATA.name, DATA.regions, DATA.sectors, list_fd_cats=['FD'])\n",
    "\n",
    "    \"\"\"Define sets and alias\"\"\"\n",
    "    # CREATE SETS\n",
    "    MRIA_RUN.create_sets()\n",
    "\n",
    "    # CREATE ALIAS\n",
    "    MRIA_RUN.create_alias()\n",
    "\n",
    "    \"\"\" Define tables and parameters\"\"\"\n",
    "    MRIA_RUN.baseline_data(DATA, disr_dict_sup, disr_dict_fd)\n",
    "    MRIA_RUN.impact_data(DATA, disr_dict_sup, disr_dict_fd)\n",
    "\n",
    "    status = MRIA_RUN.run_impactmodel(solver=solver)\n",
    "    print(pd.Series(MRIA_RUN.X.get_values()).sum())\n",
    "\n",
    "#MRIA_RUN.run_basemodel()\n",
    "\n",
    "\"\"\"Get base line values\"\"\"\n",
    "output_in['x_in'] = pd.Series(MRIA_RUN.X.get_values())\n",
    "output_in.index.names = ['region', 'sector']"
   ]
  },
  {
   "cell_type": "code",
   "execution_count": null,
   "metadata": {},
   "outputs": [],
   "source": [
    "output_in['x_in'].sum()"
   ]
  },
  {
   "cell_type": "code",
   "execution_count": null,
   "metadata": {},
   "outputs": [],
   "source": [
    "%%time\n",
    "\"\"\"Run model and create some output\"\"\"\n",
    "disr_dict_fd = {}\n",
    "collect_outputs = {}\n",
    "\n",
    "total_losses = {}\n",
    "\n",
    "sum_disr = 0\n",
    "event = 'agriculture shock'\n",
    "for solver in ['ipopt']:\n",
    "#    for event in tqdm(list(reg_mapper.values())):\n",
    "\n",
    "    output = output_in.copy()\n",
    "    \"\"\"Run model and create some output\"\"\"\n",
    "    disr_dict_fd = {}\n",
    "    disr_dict_sup = {('Cordoba', 'A'): 1,#-0.083,\n",
    "                     ('Santa_Fe', 'A'): 1,#-0.083,\n",
    "                    ('Buenos_Aires', 'A'): 1}#-0.083}\n",
    "\n",
    "    \"\"\"Create model\"\"\"\n",
    "    MRIA_RUN = MRIA(DATA.name, DATA.regions, DATA.sectors, list_fd_cats=['FD'])\n",
    "\n",
    "    \"\"\"Define sets and alias\"\"\"\n",
    "    # CREATE SETS\n",
    "    MRIA_RUN.create_sets()\n",
    "\n",
    "    # CREATE ALIAS\n",
    "    MRIA_RUN.create_alias()\n",
    "    \"\"\" Define tables and parameters\"\"\"\n",
    "    MRIA_RUN.baseline_data(DATA, disr_dict_sup, disr_dict_fd)\n",
    "    MRIA_RUN.impact_data(DATA, disr_dict_sup, disr_dict_fd)\n",
    "\n",
    "    \"\"\"Get direct losses \"\"\"\n",
    "    disrupt = pd.DataFrame.from_dict(disr_dict_sup, orient='index')\n",
    "    disrupt.reset_index(inplace=True)\n",
    "    disrupt[['region', 'sector']] = disrupt['index'].apply(pd.Series)\n",
    "    disrupt.drop('index', axis=1, inplace=True)\n",
    "    disrupt = 1 - disrupt.groupby(['region', 'sector']).sum()\n",
    "    disrupt.columns = ['shock']\n",
    "\n",
    "    output['dir_losses'] = (disrupt['shock']*output['x_in']).fillna(0)*-1\n",
    "\n",
    "    status = MRIA_RUN.run_impactmodel(output='print',solver=solver,tol=1e-6, DisWeight=1.75, RatWeight=2.0)\n",
    "    print(status)\n",
    "\n",
    "    output['x_out'] = pd.Series(MRIA_RUN.X.get_values())\n",
    "    output['total_losses'] = (output['x_out'] - output['x_in'])\n",
    "    output['ind_losses'] = (output['total_losses'] - output['dir_losses'])\n",
    "    output = output.sort_index(level=[0,1])\n",
    "    output.to_csv(os.path.join(output_dir, '{}.csv'.format(event)))\n",
    "\n",
    "    prov_impact = output.groupby(level=0, axis=0).sum()[['dir_losses','total_losses','ind_losses']]\n",
    "    collect_outputs[solver] = prov_impact\n",
    "\n",
    "    total_losses_sum = (output['total_losses'].sum().sum())/1000\n",
    "    total_losses[solver] = total_losses_sum\n",
    "\n",
    "    print('{} results in {} billion pesos losses for {}'.format(event,total_losses_sum,solver))\n",
    "    print('{} rationing'.format(sum(pd.Series(MRIA_RUN.Rat.get_values()).sort_values(ascending=False))/1000000))"
   ]
  },
  {
   "cell_type": "code",
   "execution_count": null,
   "metadata": {},
   "outputs": [],
   "source": [
    "(output.sum()['x_out']-output.sum()['x_in'])/output.sum()['x_in']*100"
   ]
  },
  {
   "cell_type": "raw",
   "execution_count": null,
   "metadata": {},
   "outputs": [],
   "source": [
    "#pd.concat(collect_outputs).to_csv('D:\\\\Dropbox\\\\OIA\\\\Argentina\\\\results\\\\agriculture_failure\\\\all_regions.csv')"
   ]
  }
 ],
 "metadata": {
  "kernelspec": {
   "display_name": "Python 3",
   "language": "python",
   "name": "python3"
  },
  "language_info": {
   "codemirror_mode": {
    "name": "ipython",
    "version": 3
   },
   "file_extension": ".py",
   "mimetype": "text/x-python",
   "name": "python",
   "nbconvert_exporter": "python",
   "pygments_lexer": "ipython3",
   "version": "3.6.7-final"
  }
 },
 "nbformat": 4,
 "nbformat_minor": 4
}
