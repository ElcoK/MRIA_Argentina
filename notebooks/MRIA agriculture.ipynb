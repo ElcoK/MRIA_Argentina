{
 "cells": [
  {
   "cell_type": "code",
   "execution_count": 1,
   "metadata": {},
   "outputs": [],
   "source": [
    "import os\n",
    "import numpy as np\n",
    "import pandas as pd\n",
    "from model import MRIA_IO as MRIA\n",
    "from table import io_basic\n",
    "from tqdm import tqdm\n",
    "data_path = os.path.join('..','Data')"
   ]
  },
  {
   "cell_type": "code",
   "execution_count": 2,
   "metadata": {},
   "outputs": [],
   "source": [
    "input_file = os.path.join(data_path,'isolated_od_scenarios','single_mode','single_edge_failures_od_losses_rail_min_100_percent_disrupt.csv')"
   ]
  },
  {
   "cell_type": "code",
   "execution_count": 3,
   "metadata": {},
   "outputs": [],
   "source": [
    "output_path = os.path.join('..','results')\n",
    "\n",
    "\"\"\"Specify disruption\"\"\"\n",
    "output_dir = os.path.join(\n",
    "    output_path,\n",
    "    'agriculture_failure')"
   ]
  },
  {
   "cell_type": "markdown",
   "metadata": {},
   "source": [
    "### Get regional mapper dictionary, to make everything compatible"
   ]
  },
  {
   "cell_type": "code",
   "execution_count": 4,
   "metadata": {},
   "outputs": [],
   "source": [
    "reg_mapper = pd.read_excel(os.path.join(data_path,'economic_IO_tables','input','sh_cou_06_16.xls'),\n",
    "                          sheet_name='reg_mapper',header=None)\n",
    "reg_mapper = dict(zip(reg_mapper[0], reg_mapper[1]))"
   ]
  },
  {
   "cell_type": "markdown",
   "metadata": {},
   "source": [
    "### Create input-output database file to be used with optimization model"
   ]
  },
  {
   "cell_type": "code",
   "execution_count": 5,
   "metadata": {},
   "outputs": [
    {
     "name": "stdout",
     "output_type": "stream",
     "text": [
      "Wall time: 11.8 s\n"
     ]
    }
   ],
   "source": [
    "%%time\n",
    "\"\"\" Specify file path \"\"\"\n",
    "filepath = os.path.join(data_path, 'economic_IO_tables','output', 'IO_ARGENTINA.xlsx')\n",
    "\n",
    "regions = ['Ciudad de Buenos Aires', 'Buenos Aires', 'Catamarca', 'Cordoba',\n",
    "       'Corrientes', 'Chaco', 'Chubut', 'Entre Rios', 'Formosa', 'Jujuy',\n",
    "       'La Pampa', 'La Rioja', 'Mendoza', 'Misiones', 'Neuquen', 'Rio Negro',\n",
    "       'Salta', 'San Juan', 'San Luis', 'Santa Cruz', 'Santa Fe',\n",
    "       'Santiago del Estero', 'Tucuman', 'Tierra del Fuego']\n",
    "\n",
    "regions = [x.replace(' ','_') for x in regions]\n",
    "\n",
    "\"\"\"Create data input\"\"\"\n",
    "DATA = io_basic('Argentina', filepath,regions)\n",
    "DATA.prep_data()"
   ]
  },
  {
   "cell_type": "markdown",
   "metadata": {},
   "source": [
    "### RUN MRIA model for all baseline"
   ]
  },
  {
   "cell_type": "code",
   "execution_count": 6,
   "metadata": {},
   "outputs": [
    {
     "name": "stdout",
     "output_type": "stream",
     "text": [
      "Ipopt 3.11.1: max_iter=7500\n",
      "warm_start_init_point=yes\n",
      "warm_start_bound_push=1e-06\n",
      "warm_start_mult_bound_push=1e-06\n",
      "mu_init=1e-06\n",
      "\n",
      "\n",
      "******************************************************************************\n",
      "This program contains Ipopt, a library for large-scale nonlinear optimization.\n",
      " Ipopt is released as open source code under the Eclipse Public License (EPL).\n",
      "         For more information visit http://projects.coin-or.org/Ipopt\n",
      "******************************************************************************\n",
      "\n",
      "NOTE: You are using Ipopt by default with the MUMPS linear solver.\n",
      "      Other linear solvers might be more efficient (see Ipopt documentation).\n",
      "\n",
      "\n",
      "This is Ipopt version 3.11.1, running with linear solver mumps.\n",
      "\n",
      "Number of nonzeros in equality constraint Jacobian...:   166656\n",
      "Number of nonzeros in inequality constraint Jacobian.:     1152\n",
      "Number of nonzeros in Lagrangian Hessian.............:      768\n",
      "\n",
      "Total number of variables............................:     1536\n",
      "                     variables with only lower bounds:      768\n",
      "                variables with lower and upper bounds:      768\n",
      "                     variables with only upper bounds:        0\n",
      "Total number of equality constraints.................:      768\n",
      "Total number of inequality constraints...............:      384\n",
      "        inequality constraints with only lower bounds:        0\n",
      "   inequality constraints with lower and upper bounds:        0\n",
      "        inequality constraints with only upper bounds:      384\n",
      "\n",
      "iter    objective    inf_pr   inf_du lg(mu)  ||d||  lg(rg) alpha_du alpha_pr  ls\n",
      "   0 3.4200986e+004 1.98e-004 9.99e+001  -6.0 0.00e+000    -  0.00e+000 0.00e+000   0\n",
      "   1 3.4200844e+004 1.00e-002 9.98e+001  -6.0 3.23e+002    -  1.69e-001 1.24e-004h  1\n",
      "   2 3.4200375e+004 9.99e-003 9.97e+001  -6.0 1.51e+002    -  2.33e-002 7.27e-004h  1\n",
      "   3 3.4199650e+004 9.96e-003 9.93e+001  -6.0 3.15e+001    -  1.89e-002 3.27e-003h  1\n",
      "   4 3.4199470e+004 9.94e-003 9.92e+001  -6.0 2.49e+001    -  6.71e-003 1.29e-003h  1\n",
      "   5 3.4199209e+004 9.92e-003 9.90e+001  -6.0 2.12e+001    -  1.04e-002 2.22e-003h  1\n",
      "   6 3.4198934e+004 9.89e-003 9.87e+001  -6.0 1.59e+001    -  9.29e-003 2.94e-003h  1\n",
      "   7 3.4198732e+004 9.87e-003 9.84e+001  -6.0 1.03e+001    -  1.14e-002 2.76e-003h  1\n",
      "   8 3.4198157e+004 9.78e-003 9.75e+001  -6.0 8.09e+000    -  1.25e-002 9.13e-003h  1\n",
      "   9 3.4198102e+004 9.77e-003 9.74e+001  -6.0 6.00e+000    -  1.91e-002 1.09e-003h  1\n",
      "iter    objective    inf_pr   inf_du lg(mu)  ||d||  lg(rg) alpha_du alpha_pr  ls\n",
      "  10 3.4197598e+004 9.67e-003 9.63e+001  -6.0 6.05e+000    -  1.65e-002 1.03e-002h  1\n",
      "  11 3.4197261e+004 9.59e-003 9.56e+001  -6.0 5.57e+000    -  2.32e-002 7.57e-003h  1\n",
      "  12 3.4197086e+004 9.55e-003 9.52e+001  -6.0 5.41e+000    -  2.53e-002 4.16e-003h  1\n",
      "  13 3.4196717e+004 9.46e-003 9.43e+001  -6.0 4.94e+000    -  2.49e-002 9.48e-003h  1\n",
      "  14 3.4196554e+004 9.41e-003 9.37e+001  -6.0 3.16e+000    -  2.99e-002 5.46e-003h  1\n",
      "  15 3.4196306e+004 9.32e-003 9.28e+001  -6.0 2.28e+000    -  3.19e-002 9.88e-003h  1\n",
      "  16 3.4196041e+004 9.20e-003 9.16e+001  -6.0 1.73e+000    -  4.11e-002 1.23e-002h  1\n",
      "  17 3.4195762e+004 9.07e-003 9.03e+001  -6.0 1.34e+000    -  3.78e-002 1.43e-002h  1\n",
      "  18 3.4195625e+004 8.99e-003 8.94e+001  -6.0 9.02e-001    -  4.44e-002 8.90e-003h  1\n",
      "  19 3.4195462e+004 8.85e-003 8.80e+001  -6.0 3.57e-001    -  4.52e-002 1.59e-002h  1\n",
      "iter    objective    inf_pr   inf_du lg(mu)  ||d||  lg(rg) alpha_du alpha_pr  ls\n",
      "  20 3.4195370e+004 8.71e-003 8.66e+001  -6.0 1.59e-001    -  5.34e-002 1.54e-002h  1\n",
      "  21 3.4195342e+004 8.53e-003 8.47e+001  -6.0 2.49e-001    -  5.80e-002 2.07e-002h  1\n",
      "  22 3.4195376e+004 8.36e-003 8.30e+001  -6.0 4.05e-001    -  1.04e-001 1.94e-002h  1\n",
      "  23 3.4195480e+004 8.11e-003 8.00e+001  -6.0 5.08e-001    -  3.66e-001 3.10e-002h  1\n",
      "  24 3.4195813e+004 7.48e-003 7.32e+001  -6.0 5.90e-001    -  5.44e-001 7.75e-002h  1\n",
      "  25 3.4196183e+004 6.83e-003 6.65e+001  -6.0 5.83e-001    -  4.18e-001 8.59e-002h  1\n",
      "  26 3.4196524e+004 6.28e-003 6.06e+001  -6.0 5.68e-001    -  4.01e-001 8.14e-002h  1\n",
      "  27 3.4197002e+004 5.56e-003 5.32e+001  -6.0 5.69e-001    -  4.48e-001 1.14e-001h  1\n",
      "  28 3.4197590e+004 4.72e-003 4.45e+001  -6.0 5.18e-001    -  5.09e-001 1.52e-001h  1\n",
      "  29 3.4200859e+004 4.00e-005 1.50e+001  -6.0 4.40e-001    -  5.84e-001 9.92e-001h  1\n",
      "iter    objective    inf_pr   inf_du lg(mu)  ||d||  lg(rg) alpha_du alpha_pr  ls\n",
      "  30 3.4200887e+004 1.86e-011 1.81e-002  -6.0 3.79e-003    -  1.00e+000 1.00e+000h  1\n",
      "  31 3.4200887e+004 5.91e-012 1.06e-003  -6.0 6.24e-007    -  1.00e+000 1.00e+000h  1\n",
      "  32 3.4200887e+004 1.23e-011 5.93e-007  -6.0 4.13e-009    -  1.00e+000 1.00e+000h  1\n",
      "  33 3.4200876e+004 1.05e-011 1.49e+000  -9.0 3.21e-004    -  9.82e-001 9.97e-001f  1\n",
      "  34 3.4200876e+004 2.79e-012 3.16e-006  -9.0 4.17e-007    -  1.00e+000 1.00e+000f  1\n",
      "  35 3.4200876e+004 2.27e-012 3.92e-013  -9.0 5.44e-011    -  1.00e+000 1.00e+000h  1\n",
      "\n",
      "Number of Iterations....: 35\n",
      "\n",
      "                                   (scaled)                 (unscaled)\n",
      "Objective...............:  2.2467312242304065e+003   3.4200875803635237e+004\n",
      "Dual infeasibility......:  3.9222791681225999e-013   5.9706911645426928e-012\n",
      "Constraint violation....:  1.3477080541488732e-012   2.2737367544323206e-012\n",
      "Complementarity.........:  1.0000000000235569e-009   1.5222504336786455e-008\n",
      "Overall NLP error.......:  1.0000000000235569e-009   1.5222504336786455e-008\n",
      "\n",
      "\n",
      "Number of objective function evaluations             = 36\n",
      "Number of objective gradient evaluations             = 36\n",
      "Number of equality constraint evaluations            = 36\n",
      "Number of inequality constraint evaluations          = 37\n",
      "Number of equality constraint Jacobian evaluations   = 36\n",
      "Number of inequality constraint Jacobian evaluations = 36\n",
      "Number of Lagrangian Hessian evaluations             = 35\n",
      "Total CPU secs in IPOPT (w/o function evaluations)   =      1.525\n",
      "Total CPU secs in NLP function evaluations           =      0.082\n",
      "\n",
      "EXIT: Optimal Solution Found.\n",
      "# ==========================================================\n",
      "# = Solver Results                                         =\n",
      "# ==========================================================\n",
      "# ----------------------------------------------------------\n",
      "#   Problem Information\n",
      "# ----------------------------------------------------------\n",
      "Problem: \n",
      "- Lower bound: -inf\n",
      "  Upper bound: inf\n",
      "  Number of objectives: 1\n",
      "  Number of constraints: 1152\n",
      "  Number of variables: 1536\n",
      "  Sense: unknown\n",
      "# ----------------------------------------------------------\n",
      "#   Solver Information\n",
      "# ----------------------------------------------------------\n",
      "Solver: \n",
      "- Status: ok\n",
      "  Message: Ipopt 3.11.1\\x3a Optimal Solution Found\n",
      "  Termination condition: optimal\n",
      "  Id: 0\n",
      "  Error rc: 0\n",
      "  Time: 1.8809738159179688\n",
      "# ----------------------------------------------------------\n",
      "#   Solution Information\n",
      "# ----------------------------------------------------------\n",
      "Solution: \n",
      "- number of solutions: 0\n",
      "  number of solutions displayed: 0\n",
      "ok\n",
      "Wall time: 11.1 s\n"
     ]
    }
   ],
   "source": [
    "%%time\n",
    "\"\"\"Run model and create some output\"\"\"\n",
    "output = pd.DataFrame()\n",
    "\n",
    "disr_dict_fd = {}\n",
    "disr_dict_sup = {}\n",
    "\n",
    "\"\"\"Create model\"\"\"\n",
    "MRIA_RUN = MRIA(DATA.name, DATA.regions, DATA.sectors, list_fd_cats=['FinDem'])\n",
    "\n",
    "\"\"\"Define sets and alias\"\"\"\n",
    "# CREATE SETS\n",
    "MRIA_RUN.create_sets()\n",
    "\n",
    "# CREATE ALIAS\n",
    "MRIA_RUN.create_alias()\n",
    "\n",
    "\"\"\" Define tables and parameters\"\"\"\n",
    "MRIA_RUN.baseline_data(DATA, disr_dict_sup, disr_dict_fd)\n",
    "MRIA_RUN.impact_data(DATA, disr_dict_sup, disr_dict_fd)\n",
    "\n",
    "status = MRIA_RUN.run_impactmodel(output='print')\n",
    "print(status)\n",
    "\n",
    "#MRIA_RUN.run_basemodel()\n",
    "\n",
    "\"\"\"Get base line values\"\"\"\n",
    "output['x_in'] = pd.Series(MRIA_RUN.X.get_values())\n",
    "output.index.names = ['region', 'sector']"
   ]
  },
  {
   "cell_type": "code",
   "execution_count": 7,
   "metadata": {},
   "outputs": [
    {
     "name": "stderr",
     "output_type": "stream",
     "text": [
      "\r",
      "  0%|                                                                                           | 0/24 [00:00<?, ?it/s]"
     ]
    },
    {
     "name": "stdout",
     "output_type": "stream",
     "text": [
      "Buenos_Aires results in -5584.7973496812 Million USD losses\n"
     ]
    },
    {
     "name": "stderr",
     "output_type": "stream",
     "text": [
      "\r",
      "  4%|███▍                                                                               | 1/24 [00:14<05:38, 14.73s/it]"
     ]
    },
    {
     "name": "stdout",
     "output_type": "stream",
     "text": [
      "Catamarca results in -5.341874394180113 Million USD losses\n"
     ]
    },
    {
     "name": "stderr",
     "output_type": "stream",
     "text": [
      "\r",
      "  8%|██████▉                                                                            | 2/24 [00:27<05:09, 14.08s/it]"
     ]
    },
    {
     "name": "stdout",
     "output_type": "stream",
     "text": [
      "Chaco results in -14.899417257259017 Million USD losses\n"
     ]
    },
    {
     "name": "stderr",
     "output_type": "stream",
     "text": [
      "\r",
      " 12%|██████████▍                                                                        | 3/24 [00:40<04:49, 13.78s/it]"
     ]
    },
    {
     "name": "stdout",
     "output_type": "stream",
     "text": [
      "Chubut results in -2.197310011569848 Million USD losses\n"
     ]
    },
    {
     "name": "stderr",
     "output_type": "stream",
     "text": [
      "\r",
      " 17%|█████████████▊                                                                     | 4/24 [00:52<04:24, 13.24s/it]"
     ]
    },
    {
     "name": "stdout",
     "output_type": "stream",
     "text": [
      "Ciudad_de_Buenos_Aires results in -45.335487962350214 Million USD losses\n"
     ]
    },
    {
     "name": "stderr",
     "output_type": "stream",
     "text": [
      "\r",
      " 21%|█████████████████▎                                                                 | 5/24 [01:07<04:24, 13.90s/it]"
     ]
    },
    {
     "name": "stdout",
     "output_type": "stream",
     "text": [
      "Corrientes results in -6.523245532188618 Million USD losses\n"
     ]
    },
    {
     "name": "stderr",
     "output_type": "stream",
     "text": [
      "\r",
      " 25%|████████████████████▊                                                              | 6/24 [01:19<03:59, 13.30s/it]"
     ]
    },
    {
     "name": "stdout",
     "output_type": "stream",
     "text": [
      "Cordoba results in -210.88703686828103 Million USD losses\n"
     ]
    },
    {
     "name": "stderr",
     "output_type": "stream",
     "text": [
      "\r",
      " 29%|████████████████████████▏                                                          | 7/24 [01:40<04:22, 15.42s/it]"
     ]
    },
    {
     "name": "stdout",
     "output_type": "stream",
     "text": [
      "Entre_Rios results in -29.839716854804315 Million USD losses\n"
     ]
    },
    {
     "name": "stderr",
     "output_type": "stream",
     "text": [
      "\r",
      " 33%|███████████████████████████▋                                                       | 8/24 [01:52<03:52, 14.51s/it]"
     ]
    },
    {
     "name": "stdout",
     "output_type": "stream",
     "text": [
      "Formosa results in -3.222053824551404 Million USD losses\n"
     ]
    },
    {
     "name": "stderr",
     "output_type": "stream",
     "text": [
      "\r",
      " 38%|███████████████████████████████▏                                                   | 9/24 [02:03<03:24, 13.61s/it]"
     ]
    },
    {
     "name": "stdout",
     "output_type": "stream",
     "text": [
      "Jujuy results in -5.606353073799985 Million USD losses\n"
     ]
    },
    {
     "name": "stderr",
     "output_type": "stream",
     "text": [
      "\r",
      " 42%|██████████████████████████████████▏                                               | 10/24 [02:14<02:58, 12.74s/it]"
     ]
    },
    {
     "name": "stdout",
     "output_type": "stream",
     "text": [
      "La_Pampa results in -6.968360306544227 Million USD losses\n"
     ]
    },
    {
     "name": "stderr",
     "output_type": "stream",
     "text": [
      "\r",
      " 46%|█████████████████████████████████████▌                                            | 11/24 [02:25<02:38, 12.21s/it]"
     ]
    },
    {
     "name": "stdout",
     "output_type": "stream",
     "text": [
      "La_Rioja results in -4.694257246837384 Million USD losses\n"
     ]
    },
    {
     "name": "stderr",
     "output_type": "stream",
     "text": [
      "\r",
      " 50%|█████████████████████████████████████████                                         | 12/24 [02:37<02:24, 12.02s/it]"
     ]
    },
    {
     "name": "stdout",
     "output_type": "stream",
     "text": [
      "Mendoza results in -38.09211945523906 Million USD losses\n"
     ]
    },
    {
     "name": "stderr",
     "output_type": "stream",
     "text": [
      "\r",
      " 54%|████████████████████████████████████████████▍                                     | 13/24 [02:49<02:13, 12.15s/it]"
     ]
    },
    {
     "name": "stdout",
     "output_type": "stream",
     "text": [
      "Misiones results in -8.047003088429916 Million USD losses\n"
     ]
    },
    {
     "name": "stderr",
     "output_type": "stream",
     "text": [
      "\r",
      " 58%|███████████████████████████████████████████████▊                                  | 14/24 [03:01<01:59, 11.97s/it]"
     ]
    },
    {
     "name": "stdout",
     "output_type": "stream",
     "text": [
      "Neuquen results in -22.43869417584717 Million USD losses\n"
     ]
    },
    {
     "name": "stderr",
     "output_type": "stream",
     "text": [
      "\r",
      " 62%|███████████████████████████████████████████████████▎                              | 15/24 [03:12<01:46, 11.82s/it]"
     ]
    },
    {
     "name": "stdout",
     "output_type": "stream",
     "text": [
      "Rio_Negro results in -8.819391301883455 Million USD losses\n"
     ]
    },
    {
     "name": "stderr",
     "output_type": "stream",
     "text": [
      "\r",
      " 67%|██████████████████████████████████████████████████████▋                           | 16/24 [03:23<01:32, 11.52s/it]"
     ]
    },
    {
     "name": "stdout",
     "output_type": "stream",
     "text": [
      "Salta results in -15.123766729062242 Million USD losses\n"
     ]
    },
    {
     "name": "stderr",
     "output_type": "stream",
     "text": [
      "\r",
      " 71%|██████████████████████████████████████████████████████████                        | 17/24 [03:34<01:19, 11.34s/it]"
     ]
    },
    {
     "name": "stdout",
     "output_type": "stream",
     "text": [
      "San_Juan results in -7.021076324730517 Million USD losses\n"
     ]
    },
    {
     "name": "stderr",
     "output_type": "stream",
     "text": [
      "\r",
      " 75%|█████████████████████████████████████████████████████████████▌                    | 18/24 [03:46<01:09, 11.50s/it]"
     ]
    },
    {
     "name": "stdout",
     "output_type": "stream",
     "text": [
      "San_Luis results in -10.296873962299557 Million USD losses\n"
     ]
    },
    {
     "name": "stderr",
     "output_type": "stream",
     "text": [
      "\r",
      " 79%|████████████████████████████████████████████████████████████████▉                 | 19/24 [03:57<00:57, 11.51s/it]"
     ]
    },
    {
     "name": "stdout",
     "output_type": "stream",
     "text": [
      "Santa_Cruz results in -11.502739148851965 Million USD losses\n"
     ]
    },
    {
     "name": "stderr",
     "output_type": "stream",
     "text": [
      "\r",
      " 83%|████████████████████████████████████████████████████████████████████▎             | 20/24 [04:09<00:46, 11.66s/it]"
     ]
    },
    {
     "name": "stdout",
     "output_type": "stream",
     "text": [
      "Santa_Fe results in -155.18265285346786 Million USD losses\n"
     ]
    },
    {
     "name": "stderr",
     "output_type": "stream",
     "text": [
      "\r",
      " 88%|███████████████████████████████████████████████████████████████████████▊          | 21/24 [04:23<00:36, 12.14s/it]"
     ]
    },
    {
     "name": "stdout",
     "output_type": "stream",
     "text": [
      "Santiago_del_Estero results in -12.126518521803694 Million USD losses\n"
     ]
    },
    {
     "name": "stderr",
     "output_type": "stream",
     "text": [
      "\r",
      " 92%|███████████████████████████████████████████████████████████████████████████▏      | 22/24 [04:35<00:24, 12.12s/it]"
     ]
    },
    {
     "name": "stdout",
     "output_type": "stream",
     "text": [
      "Tierra_del_Fuego results in -6.530053971146986 Million USD losses\n"
     ]
    },
    {
     "name": "stderr",
     "output_type": "stream",
     "text": [
      "\r",
      " 96%|██████████████████████████████████████████████████████████████████████████████▌   | 23/24 [04:48<00:12, 12.59s/it]"
     ]
    },
    {
     "name": "stdout",
     "output_type": "stream",
     "text": [
      "Tucuman results in -13.787764854957677 Million USD losses\n"
     ]
    },
    {
     "name": "stderr",
     "output_type": "stream",
     "text": [
      "100%|██████████████████████████████████████████████████████████████████████████████████| 24/24 [05:01<00:00, 12.50s/it]\n"
     ]
    },
    {
     "name": "stdout",
     "output_type": "stream",
     "text": [
      "Wall time: 5min 1s\n"
     ]
    }
   ],
   "source": [
    "%%time\n",
    "\"\"\"Run model and create some output\"\"\"\n",
    "disr_dict_fd = {}\n",
    "collect_outputs = {}\n",
    "\n",
    "sum_disr = 0\n",
    "\n",
    "for event in tqdm(list(reg_mapper.values())):\n",
    "    \n",
    "    \"\"\"Run model and create some output\"\"\"\n",
    "    disr_dict_fd = {}\n",
    "    disr_dict_sup = {(event, 'A'): 0.5}\n",
    "\n",
    "    \"\"\"Create model\"\"\"\n",
    "    MRIA_RUN = MRIA(DATA.name, DATA.regions, DATA.sectors, list_fd_cats=['FinDem'])\n",
    "\n",
    "    \"\"\"Define sets and alias\"\"\"\n",
    "    # CREATE SETS\n",
    "    MRIA_RUN.create_sets()\n",
    "\n",
    "    # CREATE ALIAS\n",
    "    MRIA_RUN.create_alias()\n",
    "\n",
    "    \"\"\" Define tables and parameters\"\"\"\n",
    "    MRIA_RUN.baseline_data(DATA, disr_dict_sup, disr_dict_fd)\n",
    "    MRIA_RUN.impact_data(DATA, disr_dict_sup, disr_dict_fd)\n",
    "\n",
    "    \"\"\"Get direct losses \"\"\"\n",
    "    disrupt = pd.DataFrame.from_dict(disr_dict_sup, orient='index')\n",
    "    disrupt.reset_index(inplace=True)\n",
    "    disrupt[['region', 'sector']] = disrupt['index'].apply(pd.Series)\n",
    "    disrupt.drop('index', axis=1, inplace=True)\n",
    "    disrupt = 1 - disrupt.groupby(['region', 'sector']).sum()\n",
    "    disrupt.columns = ['shock']\n",
    "\n",
    "    output['dir_losses'] = (disrupt['shock']*output['x_in']).fillna(0)*-1\n",
    "\n",
    "    status = MRIA_RUN.run_impactmodel()\n",
    "    if status.key != 'ok':\n",
    "        continue\n",
    "        \n",
    "    output['x_out'] = pd.Series(MRIA_RUN.X.get_values())\n",
    "    output['total_losses'] = (output['x_out'] - output['x_in'])\n",
    "    output['ind_losses'] = (output['total_losses'] - output['dir_losses'])\n",
    "\n",
    "    output.to_csv(os.path.join(output_dir, '{}.csv'.format(event)))\n",
    "    \n",
    "    prov_impact = output.groupby(level=0, axis=0).sum()[['dir_losses','total_losses','ind_losses']]\n",
    "    collect_outputs[event] = prov_impact\n",
    "\n",
    "    total_losses_sum = (output['total_losses'].sum().sum())\n",
    "    print('{} results in {} Million USD losses'.format(event,total_losses_sum))"
   ]
  },
  {
   "cell_type": "code",
   "execution_count": 11,
   "metadata": {},
   "outputs": [],
   "source": [
    "pd.concat(collect_outputs).to_csv('D:\\\\Dropbox\\\\OIA\\\\Argentina\\\\results\\\\agriculture_failure\\\\all_regions.csv')"
   ]
  },
  {
   "cell_type": "code",
   "execution_count": null,
   "metadata": {},
   "outputs": [],
   "source": []
  }
 ],
 "metadata": {
  "kernelspec": {
   "display_name": "Python 3",
   "language": "python",
   "name": "python3"
  },
  "language_info": {
   "codemirror_mode": {
    "name": "ipython",
    "version": 3
   },
   "file_extension": ".py",
   "mimetype": "text/x-python",
   "name": "python",
   "nbconvert_exporter": "python",
   "pygments_lexer": "ipython3",
   "version": "3.7.1"
  }
 },
 "nbformat": 4,
 "nbformat_minor": 2
}
