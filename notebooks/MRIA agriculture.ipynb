{
 "cells": [
  {
   "cell_type": "markdown",
   "metadata": {},
   "source": [
    "## Load all packages and modules"
   ]
  },
  {
   "cell_type": "code",
   "execution_count": null,
   "metadata": {},
   "outputs": [],
   "source": [
    "import os,sys\n",
    "import pyomo\n",
    "import numpy as np\n",
    "import pandas as pd\n",
    "import geopandas as gpd\n",
    "from tqdm import tqdm\n",
    "import matplotlib.pyplot as plt\n",
    "import matplotlib\n",
    "import matplotlib.colors as colors\n",
    "\n",
    "sys.path.append(os.path.join('..','src'))\n",
    "\n",
    "from national_io import INDEC,GTAP,OECD,EORA\n",
    "from mrio import estimate,prepare_table_mria\n",
    "from mria import MRIA_IO as MRIA\n",
    "from table import io_basic\n",
    "from run_mria import run\n",
    "\n",
    "data_path = os.path.join('..','data')\n"
   ]
  },
  {
   "cell_type": "markdown",
   "metadata": {},
   "source": [
    "## Create regional mapper"
   ]
  },
  {
   "cell_type": "code",
   "execution_count": null,
   "metadata": {},
   "outputs": [],
   "source": [
    "reg_mapper = {'Misiones' : 'Misiones', \n",
    "              'San Luis' : 'San_Luis',\n",
    "              'San Juan' : 'San_Juan', \n",
    "              'Entre Rios' : 'Entre_Rios', \n",
    "              'Santa Cruz' :  'Santa_Cruz',\n",
    "               'Rio Negro' : 'Rio_Negro', \n",
    "              'Chubut' : 'Chubut', \n",
    "              'Cordoba' : 'Cordoba', \n",
    "              'Mendoza' : 'Mendoza', \n",
    "              'La Rioja' : 'La_Rioja',\n",
    "               'Catamarca' : 'Catamarca', \n",
    "              'La Pampa' : 'La_Pampa', \n",
    "              'Santiago del Estero' : 'Santiago_del_Estero', \n",
    "              'Corrientes' : 'Corrientes',\n",
    "               'Santa Fe' : 'Santa_Fe',\n",
    "              'Tucuman' : 'Tucuman',\n",
    "              'Neuquen' : 'Neuquen', \n",
    "              'Salta' : 'Salta', \n",
    "              'Chaco' : 'Chaco', \n",
    "              'Formosa' : 'Formosa',\n",
    "               'Jujuy' : 'Jujuy', \n",
    "              'Ciudad Autonoma de Buenos Aires' : 'Ciudad_de_Buenos_Aires', \n",
    "              'Buenos Aires' :  'Buenos_Aires',\n",
    "               'Tierra del Fuego, Antartida e Islas del Atlantico Sur' : 'Tierra_del_Fuego'} "
   ]
  },
  {
   "cell_type": "code",
   "execution_count": null,
   "metadata": {},
   "outputs": [],
   "source": [
    "inv_reg_mapper = {   'Misiones': 'Misiones',\n",
    "                     'San_Luis': 'San Luis',\n",
    "                     'San_Juan': 'San Juan',\n",
    "                     'Entre_Rios': 'Entre Rios',\n",
    "                     'Santa_Cruz': 'Santa Cruz',\n",
    "                     'Rio_Negro': 'Rio Negro',\n",
    "                     'Chubut': 'Chubut',\n",
    "                     'Cordoba': 'Cordoba',\n",
    "                     'Mendoza': 'Mendoza',\n",
    "                     'La_Rioja': 'La Rioja',\n",
    "                     'Catamarca': 'Catamarca',\n",
    "                     'La_Pampa': 'La Pampa',\n",
    "                     'Santiago_del_Estero': 'Santiago del Estero',\n",
    "                     'Corrientes': 'Corrientes',\n",
    "                     'Santa_Fe': 'Santa Fe',\n",
    "                     'Tucuman': 'Tucuman',\n",
    "                     'Neuquen': 'Neuquen',\n",
    "                     'Salta': 'Salta',\n",
    "                     'Chaco': 'Chaco',\n",
    "                     'Formosa': 'Formosa',\n",
    "                     'Jujuy': 'Jujuy',\n",
    "                     'Ciudad_de_Buenos_Aires': 'Ciudad Autonoma \\n de Buenos Aires',\n",
    "                     'Buenos_Aires': 'Buenos Aires',\n",
    "                     'Tierra_del_Fuego': 'Tierra del Fuego'}"
   ]
  },
  {
   "cell_type": "markdown",
   "metadata": {},
   "source": [
    "## Create a dictioniary of the 2017 drought disruption"
   ]
  },
  {
   "cell_type": "code",
   "execution_count": null,
   "metadata": {},
   "outputs": [],
   "source": [
    "disr_dict_sup = {\n",
    "        ('Buenos_Aires', 'A'):        1-0.13,\n",
    "        ('Catamarca', 'A'):           1+0.31,\n",
    "        ('Cordoba', 'A'):             1-0.23,\n",
    "        ('Corrientes', 'A'):          1-0.11,\n",
    "        ('Chaco', 'A'):               1-0.13,\n",
    "        ('Entre_Rios', 'A'):          1-0.38,\n",
    "        ('Formosa', 'A'):             1-0.65,\n",
    "        ('Jujuy', 'A'):               1+0.02,\n",
    "        ('La_Pampa', 'A'):            1-0.07,\n",
    "        ('Misiones', 'A'):            1-0.11,\n",
    "        ('Salta', 'A'):               1,\n",
    "        ('San_Luis', 'A'):            1-0.35,\n",
    "        ('Santa_Fe', 'A'):            1-0.17,\n",
    "        ('Santiago_del_Estero', 'A'): 1-0.13,\n",
    "        ('Tucuman', 'A'):             1+0.19}\n"
   ]
  },
  {
   "cell_type": "markdown",
   "metadata": {},
   "source": [
    "## Run the model for all four data sources"
   ]
  },
  {
   "cell_type": "code",
   "execution_count": null,
   "metadata": {},
   "outputs": [],
   "source": [
    "data_sources = ['INDEC','OECD','EORA','GTAP']"
   ]
  },
  {
   "cell_type": "code",
   "execution_count": null,
   "metadata": {},
   "outputs": [],
   "source": [
    "%%time\n",
    "all_outputs = {}\n",
    "for data_source in data_sources:\n",
    "    all_outputs[data_source] = run(data_source=data_source,set_year=2016,solver='IPOPT',disr_dict_sup=disr_dict_sup,print_output=False)"
   ]
  },
  {
   "cell_type": "markdown",
   "metadata": {},
   "source": [
    "## Create figures"
   ]
  },
  {
   "cell_type": "code",
   "execution_count": null,
   "metadata": {},
   "outputs": [],
   "source": [
    "regions = ['Ciudad de Buenos Aires', 'Buenos Aires', 'Catamarca', 'Cordoba',\n",
    "    'Corrientes', 'Chaco', 'Chubut', 'Entre Rios', 'Formosa', 'Jujuy',\n",
    "    'La Pampa', 'La Rioja', 'Mendoza', 'Misiones', 'Neuquen', 'Rio Negro',\n",
    "    'Salta', 'San Juan', 'San Luis', 'Santa Cruz', 'Santa Fe',\n",
    "    'Santiago del Estero', 'Tucuman', 'Tierra del Fuego']\n",
    "\n",
    "regions = [x.replace(' ','_') for x in regions]\n",
    "\n",
    "prov_zones = gpd.read_file(os.path.join(data_path,'shapefiles','admin_1_boundaries.shp'))\n",
    "ctry_zones = gpd.read_file(os.path.join(data_path,'shapefiles','admin_0_boundaries.shp'))\n",
    "#prov_zones.name = prov_zones.name.apply(lambda x : reg_mapper[x])"
   ]
  },
  {
   "cell_type": "code",
   "execution_count": null,
   "metadata": {},
   "outputs": [],
   "source": [
    "prov_zones.name = prov_zones.name.str.normalize('NFKD').str.encode('ascii', errors='ignore').str.decode('utf-8')\n",
    "prov_zones.name = prov_zones.name.apply(lambda x : reg_mapper[x])\n",
    "prov_zones.columns = ['region','geometry']"
   ]
  },
  {
   "cell_type": "code",
   "execution_count": null,
   "metadata": {},
   "outputs": [],
   "source": [
    "fig,axes =  plt.subplots(1,3,figsize=(24,12))\n",
    "\n",
    "vmin, vmax, vcenter = -10, 2, 0\n",
    "divnorm = colors.DivergingNorm(vmin=vmin, vcenter=0, vmax=vmax)\n",
    "# create a normalized colorbar\n",
    "cbar = plt.cm.ScalarMappable(norm=divnorm, cmap='RdYlGn')\n",
    "\n",
    "variants = ['dir_losses','ind_losses','total_losses']\n",
    "variant_names = ['Direct Impacts','Indirect Impacts','Total Impacts']\n",
    "prov_plot = prov_zones.merge(all_outputs['INDEC'].sum(axis=0,level=0).reset_index(),left_on='region',right_on='region')\n",
    "prov_plot = prov_plot.cx[-70:-55, -60:-20]\n",
    "ctry_zones = ctry_zones.cx[-70:-55, -60:-20]\n",
    "\n",
    "for iter_,ax in enumerate(axes.flat):\n",
    "    ctry_zones.plot(ax=ax,edgecolor='white',color='#f1f2f4')\n",
    "    prov_plot['rel_{}'.format(variants[iter_])] = (prov_plot[variants[iter_]]/prov_plot['x_in'])*100\n",
    "    prov_plot.plot('rel_{}'.format(variants[iter_]),ax=ax,vmax=10,cmap='RdYlGn',legend=False,norm=divnorm)\n",
    "\n",
    "    ax.set_ylim(-55,-20)\n",
    "    ax.set_xlim(-75,-53)\n",
    "    ax.set_title(variant_names[iter_],fontweight='bold',fontsize=22)\n",
    "    ax.set_axis_off()    \n",
    "    \n",
    "    if iter_ == 2:\n",
    "        cbax = fig.add_axes([0.95, 0.15, 0.02, 0.69])   \n",
    "        cbax.set_title('Relative Impact')\n",
    "\n",
    "        # blank-out the array of the scalar mappable 'sm'\n",
    "        #cbar._A = []\n",
    "        # draw colorbar into 'cbax'\n",
    "        fig.colorbar(cbar, cax=cbax, format=\"%d\")\n",
    "\n",
    "plt.savefig(os.path.join('..','results','figures','INDEC_data_drought_impacts.png'),dpi=400,bbox_inches='tight')"
   ]
  },
  {
   "cell_type": "code",
   "execution_count": null,
   "metadata": {},
   "outputs": [],
   "source": [
    "rel_tot_losses = {}\n",
    "rel_dir_losses = {}\n",
    "for data_source in data_sources:\n",
    "    prov_impact = all_outputs[data_source].sum(axis=0,level=0)\n",
    "    rel_tot_losses[data_source] = ((prov_impact['total_losses']/prov_impact['x_in'])*100)\n",
    "    rel_dir_losses[data_source] = ((prov_impact['dir_losses']/prov_impact['x_in'])*100)\n",
    "    \n",
    "rel_dir_losses = pd.DataFrame(rel_dir_losses)\n",
    "rel_tot_losses = pd.DataFrame(rel_tot_losses)\n",
    "\n",
    "color_scheme = ['#26547c','#ef476f','#ffd166','#06d6a0'] \n",
    "data_sources = ['INDEC','OECD','GTAP','EORA']\n",
    "\n",
    "color_lookup = dict(zip(data_sources,data_sources))\n",
    "\n",
    "fig,axes =  plt.subplots(2,1,figsize=(24,12),sharex=True)\n",
    "\n",
    "for iter_,ax in enumerate(axes.flat):\n",
    "    if iter_ == 0:\n",
    "        rel_dir_losses.plot(ax=ax,kind='bar', color=color_scheme)\n",
    "    else:\n",
    "        rel_tot_losses.index = rel_tot_losses.index.map(inv_reg_mapper)\n",
    "        rel_tot_losses.plot(ax=ax,kind='bar', color=color_scheme)\n",
    "        ax.set_xlabel('Region',fontsize=14,fontweight='bold')\n",
    "        for tick in ax.get_xticklabels():\n",
    "            tick.set_rotation(45)\n",
    "\n",
    "    ax.set_ylabel('Loss in Production (in %)',fontsize=14,fontweight='bold')\n",
    "    ax.get_yaxis().set_label_coords(-0.025,0.5)\n",
    "    ax.set_facecolor('#FAF9F9')\n",
    "    ax.spines['left'].set_color('black')\n",
    "    ax.spines['bottom'].set_color('black')\n",
    "    ax.tick_params(axis = 'both',labelsize=12,labelcolor='black',color='black')\n",
    "    \n",
    "plt.savefig(os.path.join('..','results','figures','loss_comparison_data_sources.png'),dpi=400,bbox_inches='tight')"
   ]
  }
 ],
 "metadata": {
  "kernelspec": {
   "display_name": "Python 3",
   "language": "python",
   "name": "python3"
  },
  "language_info": {
   "codemirror_mode": {
    "name": "ipython",
    "version": 3
   },
   "file_extension": ".py",
   "mimetype": "text/x-python",
   "name": "python",
   "nbconvert_exporter": "python",
   "pygments_lexer": "ipython3",
   "version": "3.6.7"
  }
 },
 "nbformat": 4,
 "nbformat_minor": 4
}
