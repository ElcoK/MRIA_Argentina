{
 "cells": [
  {
   "cell_type": "code",
   "execution_count": null,
   "metadata": {},
   "outputs": [],
   "source": [
    "%matplotlib inline\n",
    "\n",
    "import os,sys,json\n",
    "from scipy import stats\n",
    "import numpy as np\n",
    "import matplotlib.pyplot as plt\n",
    "import pandas as pd\n",
    "import seaborn as sns\n",
    "\n",
    "data_path = os.path.join('..','data')\n",
    "\n",
    "sys.path.append(os.path.join('..','scripts'))\n",
    "from ras_method import ras_method\n",
    "from country_level_IO import INDEC,GTAP,OECD,EORA\n"
   ]
  },
  {
   "cell_type": "markdown",
   "execution_count": null,
   "metadata": {},
   "outputs": [],
   "source": [
    "### Compare data"
   ]
  },
  {
   "cell_type": "code",
   "execution_count": null,
   "metadata": {},
   "outputs": [],
   "source": [
    "%%time\n",
    "INDEC_IO = INDEC()\n",
    "GTAP_IO = GTAP()\n",
    "OECD_IO = OECD()\n",
    "EORA_IO = EORA() "
   ]
  },
  {
   "cell_type": "code",
   "execution_count": null,
   "metadata": {},
   "outputs": [],
   "source": [
    "sectors = pd.read_excel(os.path.join(data_path,'industry_high_level_classification.xlsx'))"
   ]
  },
  {
   "cell_type": "code",
   "execution_count": null,
   "metadata": {},
   "outputs": [],
   "source": [
    "fig, axes = plt.subplots(nrows=2, ncols=2,figsize=(16,16))\n",
    "\n",
    "for i,ax in enumerate(axes.flatten()):\n",
    "    if i == 0:\n",
    "        table = pd.DataFrame(np.array(INDEC_IO.iloc[:16,:16]),columns=list(sectors['English classification']),index=list(sectors['English classification']))\n",
    "        sns.heatmap(table.iloc[:16,:16]/table.sum().sum(), cmap=\"YlGnBu\", linewidths=.01, vmax=0.05,ax=ax, cbar=False, xticklabels=False)\n",
    "        ax.set_title('A) INDEC', fontsize=18, fontweight='bold')\n",
    "    elif i == 1:\n",
    "        table = pd.DataFrame(np.array(OECD_IO.iloc[:16,:16]),columns=list(sectors['English classification']),index=list(sectors['English classification']))\n",
    "        ax.set_title('B) OECD', fontsize=18, fontweight='bold')\n",
    "        sns.heatmap(table.iloc[:16,:16]/table.sum().sum(), cmap=\"YlGnBu\", linewidths=.01, vmax=0.05,ax=ax, cbar=False, xticklabels=False, yticklabels=False)\n",
    "    elif i == 2:\n",
    "        table = pd.DataFrame(np.array(EORA_IO.iloc[:16,:16]),columns=list(sectors['English classification']),index=list(sectors['English classification']))\n",
    "        ax.set_title('C) EORA', fontsize=18, fontweight='bold')\n",
    "        sns.heatmap(table.iloc[:16,:16]/table.sum().sum(), cmap=\"YlGnBu\", linewidths=.01, vmax=0.05,ax=ax, cbar=False)\n",
    "    elif i == 3:\n",
    "        table = pd.DataFrame(np.array(GTAP_IO.iloc[:16,:16]),columns=list(sectors['English classification']),index=list(sectors['English classification']))\n",
    "        ax.set_title('D) GTAP', fontsize=18, fontweight='bold')\n",
    "        sns.heatmap(table.iloc[:16,:16]/table.sum().sum(), cmap=\"YlGnBu\", linewidths=.01, vmax=0.05,ax=ax, cbar=False, yticklabels=False)\n",
    "    \n",
    "    ax.set_xticklabels(labels=list(sectors['English classification']),fontsize=15)\n",
    "    ax.set_yticklabels(labels=list(sectors['English classification']),fontsize=15)\n",
    "\n",
    "plt.savefig(os.path.join('..','results','figures','table_comparison.png'),dpi=400,bbox_inches='tight')"
   ]
  },
  {
   "cell_type": "code",
   "execution_count": null,
   "metadata": {},
   "outputs": [],
   "source": []
  }
 ],
 "metadata": {
  "kernelspec": {
   "display_name": "Python 3",
   "language": "python",
   "name": "python3"
  },
  "language_info": {
   "codemirror_mode": {
    "name": "ipython",
    "version": 3
   },
   "file_extension": ".py",
   "mimetype": "text/x-python",
   "name": "python",
   "nbconvert_exporter": "python",
   "pygments_lexer": "ipython3",
   "version": "3.6.7-final"
  }
 },
 "nbformat": 4,
 "nbformat_minor": 4
}
