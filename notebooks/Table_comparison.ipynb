{
 "cells": [
  {
   "cell_type": "code",
   "execution_count": null,
   "metadata": {},
   "outputs": [],
   "source": [
    "%matplotlib inline\n",
    "\n",
    "import os,sys,json\n",
    "from scipy import stats\n",
    "import numpy as np\n",
    "import matplotlib.pyplot as plt\n",
    "import pandas as pd\n",
    "import seaborn as sns\n",
    "import matplotlib\n",
    "\n",
    "data_path = os.path.join('..','data')\n",
    "\n",
    "sys.path.append(os.path.join('..','src'))\n",
    "from ras_method import ras_method\n",
    "from national_io import INDEC,GTAP,OECD,EORA\n"
   ]
  },
  {
   "cell_type": "markdown",
   "metadata": {},
   "source": [
    "### Compare data"
   ]
  },
  {
   "cell_type": "code",
   "execution_count": null,
   "metadata": {},
   "outputs": [],
   "source": [
    "%%time\n",
    "INDEC_IO = INDEC()\n",
    "GTAP_IO = GTAP()\n",
    "OECD_IO = OECD()\n",
    "EORA_IO = EORA() "
   ]
  },
  {
   "cell_type": "code",
   "execution_count": null,
   "metadata": {},
   "outputs": [],
   "source": [
    "sectors = pd.read_excel(os.path.join(data_path,'other_sources','industry_high_level_classification.xlsx'))"
   ]
  },
  {
   "cell_type": "code",
   "execution_count": null,
   "metadata": {},
   "outputs": [],
   "source": [
    "sectors['Spanish classification']"
   ]
  },
  {
   "cell_type": "code",
   "execution_count": null,
   "metadata": {},
   "outputs": [],
   "source": [
    "fig, axes = plt.subplots(nrows=2, ncols=2,figsize=(16,16))\n",
    "\n",
    "for i,ax in enumerate(axes.flatten()):\n",
    "    if i == 0:\n",
    "        table = pd.DataFrame(np.array(INDEC_IO.iloc[:16,:16]),columns=list(sectors['English classification']),index=list(sectors['English classification']))\n",
    "        sns.heatmap(table.iloc[:16,:16]/table.sum().sum()*100, cmap=\"YlGnBu\", linewidths=.01, vmax=5,ax=ax, cbar=True, xticklabels=False)\n",
    "        ax.set_title('A) INDEC', fontsize=18, fontweight='bold')\n",
    "    elif i == 1:\n",
    "        table = pd.DataFrame(np.array(OECD_IO.iloc[:16,:16]),columns=list(sectors['English classification']),index=list(sectors['English classification']))\n",
    "        ax.set_title('B) OECD', fontsize=18, fontweight='bold')\n",
    "        sns.heatmap(table.iloc[:16,:16]/table.sum().sum()*100, cmap=\"YlGnBu\", linewidths=.01, vmax=5,ax=ax, cbar=True, xticklabels=False, yticklabels=False)\n",
    "    elif i == 2:\n",
    "        table = pd.DataFrame(np.array(EORA_IO.iloc[:16,:16]),columns=list(sectors['English classification']),index=list(sectors['English classification']))\n",
    "        ax.set_title('C) EORA', fontsize=18, fontweight='bold')\n",
    "        sns.heatmap(table.iloc[:16,:16]/table.sum().sum()*100, cmap=\"YlGnBu\", linewidths=.01, vmax=5,ax=ax, cbar=True)\n",
    "    elif i == 3:\n",
    "        table = pd.DataFrame(np.array(GTAP_IO.iloc[:16,:16]),columns=list(sectors['English classification']),index=list(sectors['English classification']))\n",
    "        ax.set_title('D) GTAP', fontsize=18, fontweight='bold')\n",
    "        sns.heatmap(table.iloc[:16,:16]/table.sum().sum()*100, cmap=\"YlGnBu\", linewidths=.01, vmax=5,ax=ax, cbar=True, yticklabels=False)\n",
    "    \n",
    "    ax.set_xticklabels(labels=list(sectors['Spanish classification']),fontsize=15)\n",
    "    ax.set_yticklabels(labels=list(sectors['Spanish classification']),fontsize=15)\n",
    "\n",
    "plt.savefig(os.path.join('..','results','figures','data_source_comparison.png'),dpi=400,bbox_inches='tight')"
   ]
  },
  {
   "cell_type": "code",
   "execution_count": null,
   "metadata": {},
   "outputs": [],
   "source": []
  },
  {
   "cell_type": "code",
   "execution_count": null,
   "metadata": {},
   "outputs": [],
   "source": []
  }
 ],
 "metadata": {
  "kernelspec": {
   "display_name": "Python 3",
   "language": "python",
   "name": "python3"
  },
  "language_info": {
   "codemirror_mode": {
    "name": "ipython",
    "version": 3
   },
   "file_extension": ".py",
   "mimetype": "text/x-python",
   "name": "python",
   "nbconvert_exporter": "python",
   "pygments_lexer": "ipython3",
   "version": "3.6.7"
  }
 },
 "nbformat": 4,
 "nbformat_minor": 4
}
