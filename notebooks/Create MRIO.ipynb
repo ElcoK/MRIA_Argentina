{
 "cells": [
  {
   "cell_type": "code",
   "execution_count": 3,
   "metadata": {},
   "outputs": [],
   "source": [
    "import os,sys\n",
    "import pandas as pd\n",
    "import numpy as np\n",
    "from tqdm import tqdm\n",
    "import subprocess\n",
    "data_path = os.path.join('..','data')\n",
    "\n",
    "import warnings\n",
    "warnings.filterwarnings('ignore')\n",
    "\n",
    "sys.path.append(os.path.join('..','scripts'))\n",
    "from ras_method import ras_method"
   ]
  },
  {
   "cell_type": "markdown",
   "metadata": {},
   "source": [
    "## First iteration, no trade to determine total regional input and output"
   ]
  },
  {
   "cell_type": "markdown",
   "metadata": {},
   "source": [
    "### Load sector data"
   ]
  },
  {
   "cell_type": "code",
   "execution_count": 22,
   "metadata": {},
   "outputs": [],
   "source": [
    "sectors = list(pd.read_excel(os.path.join(data_path,'industry_high_level_classification.xlsx'))['SEC_CODE'].values)"
   ]
  },
  {
   "cell_type": "markdown",
   "metadata": {},
   "source": [
    "### Load provincial data"
   ]
  },
  {
   "cell_type": "code",
   "execution_count": 56,
   "metadata": {},
   "outputs": [],
   "source": [
    "reg_mapper = pd.read_excel(os.path.join(data_path,'INDEC','sh_cou_06_16.xls'),sheet_name='reg_mapper',header=None).iloc[:,:2]\n",
    "reg_mapper = dict(zip(reg_mapper[0],reg_mapper[1]))"
   ]
  },
  {
   "cell_type": "code",
   "execution_count": 57,
   "metadata": {},
   "outputs": [],
   "source": [
    "prov_data = pd.read_excel(os.path.join(data_path,'INDEC','PIB_provincial_06_17.xls'),sheet_name='VBP',\n",
    "                         skiprows=3,index_col=[0],header=[0],nrows=71)\n",
    "prov_data = prov_data.loc[[x.isupper() for x in prov_data.index],:]\n",
    "prov_data.columns = [x.replace(' ','_') for x in ['Ciudad de Buenos Aires', 'Buenos Aires', 'Catamarca', 'Cordoba',\n",
    "       'Corrientes', 'Chaco', 'Chubut', 'Entre Rios', 'Formosa', 'Jujuy',\n",
    "       'La Pampa', 'La Rioja', 'Mendoza', 'Misiones', 'Neuquen', 'Rio Negro',\n",
    "       'Salta', 'San Juan', 'San Luis', 'Santa Cruz', 'Santa Fe',\n",
    "       'Santiago del Estero', 'Tucuman', 'Tierra del Fuego',\n",
    "       'No distribuido', 'Total']]\n",
    "region_names = list(prov_data.columns)[:-2]"
   ]
  },
  {
   "cell_type": "code",
   "execution_count": 58,
   "metadata": {},
   "outputs": [],
   "source": [
    "prov_data.index = sectors+['TOTAL']"
   ]
  },
  {
   "cell_type": "code",
   "execution_count": 59,
   "metadata": {},
   "outputs": [],
   "source": [
    "prov_data = prov_data.replace(0, 1)"
   ]
  },
  {
   "cell_type": "markdown",
   "metadata": {},
   "source": [
    "### Create proxy data for first iteration"
   ]
  },
  {
   "cell_type": "code",
   "execution_count": 60,
   "metadata": {},
   "outputs": [
    {
     "data": {
      "text/plain": "['A',\n 'B',\n 'C',\n 'D',\n 'E',\n 'F',\n 'G',\n 'H',\n 'I',\n 'J',\n 'K',\n 'L',\n 'M',\n 'N',\n 'O',\n 'P',\n 'other1',\n 'other2']"
     },
     "execution_count": 60,
     "metadata": {},
     "output_type": "execute_result"
    }
   ],
   "source": [
    "sectors+['other1','other2']"
   ]
  },
  {
   "cell_type": "code",
   "execution_count": 61,
   "metadata": {},
   "outputs": [],
   "source": [
    "# proxy level 2\n",
    "proxy_reg_arg = pd.DataFrame(prov_data.iloc[-1,:24]/prov_data.iloc[-1,:24].sum()).reset_index()\n",
    "proxy_reg_arg['year'] = 2016\n",
    "proxy_reg_arg = proxy_reg_arg[['year','index','TOTAL']]\n",
    "proxy_reg_arg.columns = ['year','id','gdp']\n",
    "proxy_reg_arg.to_csv(os.path.join('..','mrio_downscaling','proxy_reg_arg.csv'),index=False)"
   ]
  },
  {
   "cell_type": "code",
   "execution_count": 62,
   "metadata": {},
   "outputs": [],
   "source": [
    "# proxy level 4\n",
    "for iter_,sector in enumerate(sectors+['other1','other2']):\n",
    "    if (sector is not 'other1') & (sector is not 'other2'):\n",
    "        proxy_sector = pd.DataFrame(prov_data.iloc[iter_,:24]/prov_data.iloc[iter_,:24].sum()).reset_index()\n",
    "        proxy_sector['year'] = 2016\n",
    "        proxy_sector['sector'] = 'sec{}'.format(sector)\n",
    "        proxy_sector = proxy_sector[['year','sector','index',sector]]\n",
    "        proxy_sector.columns = ['year','sector','region','gdp']\n",
    "        proxy_sector.to_csv(os.path.join('..','mrio_downscaling','proxy_sec{}.csv'.format(sector)),index=False)\n",
    "    else:\n",
    "        proxy_sector = pd.DataFrame(prov_data.iloc[-1,:24]/prov_data.iloc[-1,:24].sum()).reset_index()\n",
    "        proxy_sector['year'] = 2016\n",
    "        proxy_sector['sector'] = sector+'1'\n",
    "        proxy_sector = proxy_sector[['year','sector','index','TOTAL']]\n",
    "        proxy_sector.columns = ['year','sector','region','gdp']\n",
    "        proxy_sector.to_csv(os.path.join('..','mrio_downscaling','proxy_{}.csv'.format(sector)),index=False)"
   ]
  },
  {
   "cell_type": "code",
   "execution_count": 63,
   "metadata": {},
   "outputs": [],
   "source": [
    "def change_name(x):\n",
    "    if x in sectors:\n",
    "        return 'sec'+x\n",
    "    elif x == 'other1':\n",
    "        return 'other11'\n",
    "    else:\n",
    "        return 'other21'"
   ]
  },
  {
   "cell_type": "code",
   "execution_count": 64,
   "metadata": {},
   "outputs": [],
   "source": [
    "# proxy level 18\n",
    "mi_index = pd.MultiIndex.from_product([sectors+['other1','other2'], region_names, sectors+['other1','other2'], region_names],\n",
    "                                     names=['sec1', 'reg1','sec2','reg2'])\n",
    "for iter_,sector in enumerate(sectors+['other1','other2']):\n",
    "    if (sector is not 'other1') & (sector is not 'other2'):\n",
    "        proxy_trade = pd.DataFrame(columns=['year','gdp'],index= mi_index).reset_index()\n",
    "        proxy_trade['year'] = 2016\n",
    "        proxy_trade['gdp'] = 0\n",
    "        proxy_trade = proxy_trade.query(\"reg1 != reg2\")\n",
    "        proxy_trade = proxy_trade.loc[proxy_trade.sec1 == sector]\n",
    "        proxy_trade['sec1'] = proxy_trade.sec1.apply(change_name)\n",
    "        proxy_trade['sec2'] = proxy_trade.sec2.apply(change_name)\n",
    "        proxy_trade = proxy_trade[['year','sec1','reg1','sec2','reg2','gdp']]\n",
    "        proxy_trade.columns = ['year','sector','region','sector','region','gdp']\n",
    "        proxy_trade.to_csv(os.path.join('..','mrio_downscaling','proxy_trade_sec{}.csv'.format(sector)),index=False)    \n",
    "    else:\n",
    "        proxy_trade = pd.DataFrame(columns=['year','gdp'],index= mi_index).reset_index()\n",
    "        proxy_trade['year'] = 2016\n",
    "        proxy_trade['gdp'] = 0\n",
    "        proxy_trade = proxy_trade.query(\"reg1 != reg2\")    \n",
    "        proxy_trade = proxy_trade.loc[proxy_trade.sec1 == sector]\n",
    "        proxy_trade['sec1'] = proxy_trade.sec1.apply(change_name)\n",
    "        proxy_trade['sec2'] = proxy_trade.sec2.apply(change_name)       \n",
    "        proxy_trade = proxy_trade[['year','sec1','reg1','sec2','reg2','gdp']]\n",
    "        proxy_trade.columns = ['year','sector','region','sector','region','gdp']\n",
    "        proxy_trade.to_csv(os.path.join('..','mrio_downscaling','proxy_trade_{}.csv'.format(sector)),index=False)"
   ]
  },
  {
   "cell_type": "markdown",
   "metadata": {},
   "source": [
    "### Create first version of MRIO for Argentina"
   ]
  },
  {
   "cell_type": "code",
   "execution_count": 65,
   "metadata": {},
   "outputs": [
    {
     "data": {
      "text/plain": "0"
     },
     "execution_count": 65,
     "metadata": {},
     "output_type": "execute_result"
    }
   ],
   "source": [
    "p = subprocess.Popen(['..\\mrio_downscaling\\mrio_disaggregate', 'settings_notrade.yml'],\n",
    "                     cwd=os.path.join('..','mrio_downscaling'))\n",
    "p.wait()"
   ]
  },
  {
   "cell_type": "code",
   "execution_count": 66,
   "metadata": {},
   "outputs": [],
   "source": [
    "region_names_list = [item for sublist in [[x]*(len(sectors)+2) for x in region_names]\n",
    "                     for item in sublist]"
   ]
  },
  {
   "cell_type": "code",
   "execution_count": 67,
   "metadata": {},
   "outputs": [],
   "source": [
    "rows = ([x for x in sectors+['VA','IMP']])*len(region_names)\n",
    "cols = ([x for x in sectors+['FD','EXP']])*len(region_names)"
   ]
  },
  {
   "cell_type": "code",
   "execution_count": 68,
   "metadata": {},
   "outputs": [],
   "source": [
    "index_mi = pd.MultiIndex.from_arrays([region_names_list, rows], names=('region', 'row'))\n",
    "column_mi = pd.MultiIndex.from_arrays([region_names_list, cols], names=('region', 'col'))\n",
    "\n",
    "MRIO = pd.read_csv(os.path.join('..','mrio_downscaling','output1.csv'),header=None,index_col=None)\n",
    "MRIO.index = index_mi\n",
    "MRIO.columns = column_mi\n",
    "\n",
    "# create predefined index and col, which is easier to read\n",
    "sector_only = [x for x in sectors]*len(region_names)\n",
    "col_only = ['FD']*len(region_names)\n",
    "\n",
    "region_col = [item for sublist in [[x]*len(sectors) for x in region_names] for item in sublist] + \\\n",
    "    [item for sublist in [[x]*1 for x in region_names] for item in sublist]\n",
    "\n",
    "column_mi_reorder = pd.MultiIndex.from_arrays(\n",
    "    [region_col, sector_only+col_only], names=('region', 'col'))\n",
    "\n",
    "# sum va and imports\n",
    "valueA = MRIO.xs('VA', level=1, axis=0).sum(axis=0)\n",
    "valueA.drop('FD', level=1,axis=0,inplace=True)\n",
    "valueA.drop('EXP', level=1,axis=0,inplace=True)\n",
    "imports = MRIO.xs('IMP', level=1, axis=0).sum(axis=0)\n",
    "imports.drop('FD', level=1,axis=0,inplace=True)\n",
    "imports.drop('EXP', level=1,axis=0,inplace=True)\n",
    "FinalD = MRIO.xs('FD', level=1, axis=1).sum(axis=1)\n",
    "FinalD.drop('VA', level=1,axis=0,inplace=True)\n",
    "FinalD.drop('IMP', level=1,axis=0,inplace=True)\n",
    "Export = MRIO.xs('EXP', level=1, axis=1).sum(axis=1)\n",
    "Export.drop('VA', level=1,axis=0,inplace=True)\n",
    "Export.drop('IMP', level=1,axis=0,inplace=True)\n",
    "\n",
    "output_new = MRIO.copy()\n",
    "\n",
    "#MRIO.drop('FD', level=1,axis=1,inplace=True)\n",
    "#MRIO.drop('EXP', level=1,axis=1,inplace=True)\n",
    "#MRIO.drop('VA', level=1,axis=0,inplace=True)\n",
    "#MRIO.drop('IMP', level=1,axis=0,inplace=True)\n",
    "\n",
    "#output_new = pd.concat([MRIO,pd.DataFrame(FinalD,columns=[('ALL','FD')]),\n",
    "#                        pd.DataFrame(Export,columns=[('ALL','EXP')])],axis=1)\n",
    "#output_new = pd.concat([MRIO,pd.concat([pd.DataFrame(FinalD,columns=[('ALL','VA')]),\n",
    "#                           pd.DataFrame(Export,columns=[('ALL','IMP')])],axis=1).T])\n"
   ]
  },
  {
   "cell_type": "code",
   "execution_count": 69,
   "metadata": {},
   "outputs": [
    {
     "name": "stdout",
     "output_type": "stream",
     "text": "0.6008773628165098\n0.2625041983291241\n0.1546234605495287\n0.09446193578605078\n0.05682675959372796\n0.034110900684548584\n0.020530782741094766\n0.012413610231906791\n0.007544043851130722\n0.0046077224962706165\n0.002827353194470472\n0.0017420809853030406\n0.001077261041797728\n0.0006999152316877755\n0.00047958874351827774\n0.0003276717655409378\n0.000223372620663298\n0.0001520032127895199\n0.00010329304644063342\n7.011524499889177e-05\n4.755287766000649e-05\n3.2228692425473326e-05\n2.1830919487708655e-05\n1.4781337931424332e-05\n1.000475694112879e-05\nWall time: 582 ms\n"
    }
   ],
   "source": [
    "%%time\n",
    "# convert to numpy matrix\n",
    "X0 = MRIO.as_matrix()\n",
    "\n",
    "# get sum of rows and columns\n",
    "u = X0.sum(axis=1)\n",
    "v = X0.sum(axis=0)\n",
    "\n",
    "# and only keep T\n",
    "v[:(len(u)-2)] = u[:-2]\n",
    "\n",
    "# apply RAS method to rebalance the table\n",
    "X1 = ras_method(X0, u, v, eps=1e-5,print_out=True)"
   ]
  },
  {
   "cell_type": "code",
   "execution_count": 70,
   "metadata": {},
   "outputs": [],
   "source": [
    "output_new = pd.DataFrame(X1)\n",
    "output_new.index = index_mi\n",
    "output_new.columns = column_mi"
   ]
  },
  {
   "cell_type": "code",
   "execution_count": 89,
   "metadata": {},
   "outputs": [
    {
     "output_type": "execute_result",
     "data": {
      "text/plain": "region                     Ciudad_de_Buenos_Aires                      \\\ncol                                             A         B         C   \nregion                 row                                              \nCiudad_de_Buenos_Aires A                 0.002991  0.000111  0.000341   \n                       B                 0.000391  0.000057  0.002647   \n                       C                 0.000237  0.000046  0.120775   \n                       D                 0.133751  0.040704  6.283528   \n                       E                 0.005512  0.000253  0.556652   \n...                                           ...       ...       ...   \nTierra_del_Fuego       N                 0.000000  0.000000  0.000000   \n                       O                 0.000000  0.000000  0.000000   \n                       P                 0.000000  0.000000  0.000000   \n                       VA                0.000000  0.000000  0.000000   \n                       IMP               0.000000  0.000000  0.000000   \n\nregion                                                                 \\\ncol                                 D         E          F          G   \nregion                 row                                              \nCiudad_de_Buenos_Aires A     0.652041  0.000343   0.000595   0.003727   \n                       B     0.264516  0.002964   0.056529   0.033796   \n                       C    24.751913  2.060684   9.909002   0.123184   \n                       D    45.370659  1.626190  18.935769  10.551072   \n                       E     3.031376  3.300959   0.513450   2.490020   \n...                               ...       ...        ...        ...   \nTierra_del_Fuego       N     0.000000  0.000000   0.000000   0.000000   \n                       O     0.000000  0.000000   0.000000   0.000000   \n                       P     0.000000  0.000000   0.000000   0.000000   \n                       VA    0.000000  0.000000   0.000000   0.000000   \n                       IMP   0.000000  0.000000   0.000000   0.000000   \n\nregion                                                      ...  \\\ncol                                 H          I         J  ...   \nregion                 row                                  ...   \nCiudad_de_Buenos_Aires A     0.673836   0.000905  0.000802  ...   \n                       B     0.084181   0.051237  0.016106  ...   \n                       C     0.204613   0.116494  0.051669  ...   \n                       D    26.414299  16.172183  5.480211  ...   \n                       E     2.083785   1.737825  0.644062  ...   \n...                               ...        ...       ...  ...   \nTierra_del_Fuego       N     0.000000   0.000000  0.000000  ...   \n                       O     0.000000   0.000000  0.000000  ...   \n                       P     0.000000   0.000000  0.000000  ...   \n                       VA    0.000000   0.000000  0.000000  ...   \n                       IMP   0.000000   0.000000  0.000000  ...   \n\nregion                     Tierra_del_Fuego                                \\\ncol                                       I         J         K         L   \nregion                 row                                                  \nCiudad_de_Buenos_Aires A           0.000000  0.000000  0.000000  0.000000   \n                       B           0.000000  0.000000  0.000000  0.000000   \n                       C           0.000000  0.000000  0.000000  0.000000   \n                       D           0.000000  0.000000  0.000000  0.000000   \n                       E           0.000000  0.000000  0.000000  0.000000   \n...                                     ...       ...       ...       ...   \nTierra_del_Fuego       N           0.000376  0.000450  0.000274  0.000590   \n                       O           0.001398  0.000130  0.000100  0.000590   \n                       P           0.000363  0.000041  0.000029  0.000156   \n                       VA          0.192849  0.106574  0.189294  0.220563   \n                       IMP         0.048478  0.001942  0.011541  0.002541   \n\nregion                                                                        \\\ncol                                M         N         O         P        FD   \nregion                 row                                                     \nCiudad_de_Buenos_Aires A    0.000000  0.000000  0.000000  0.000000  0.000000   \n                       B    0.000000  0.000000  0.000000  0.000000  0.000000   \n                       C    0.000000  0.000000  0.000000  0.000000  0.000000   \n                       D    0.000000  0.000000  0.000000  0.000000  0.000000   \n                       E    0.000000  0.000000  0.000000  0.000000  0.000000   \n...                              ...       ...       ...       ...       ...   \nTierra_del_Fuego       N    0.000889  0.005227  0.000445  0.000000  0.149630   \n                       O    0.001028  0.000195  0.000192  0.000000  0.084650   \n                       P    0.000039  0.000039  0.000023  0.000000  0.010559   \n                       VA   0.131834  0.132185  0.086003  0.013433  0.000000   \n                       IMP  0.000000  0.000000  0.003918  0.000467  0.000000   \n\nregion                                \ncol                              EXP  \nregion                 row            \nCiudad_de_Buenos_Aires A    0.000000  \n                       B    0.000000  \n                       C    0.000000  \n                       D    0.000000  \n                       E    0.000000  \n...                              ...  \nTierra_del_Fuego       N    0.000013  \n                       O    0.002361  \n                       P    0.000488  \n                       VA   0.000000  \n                       IMP  0.000000  \n\n[432 rows x 432 columns]",
      "text/html": "<div>\n<style scoped>\n    .dataframe tbody tr th:only-of-type {\n        vertical-align: middle;\n    }\n\n    .dataframe tbody tr th {\n        vertical-align: top;\n    }\n\n    .dataframe thead tr th {\n        text-align: left;\n    }\n\n    .dataframe thead tr:last-of-type th {\n        text-align: right;\n    }\n</style>\n<table border=\"1\" class=\"dataframe\">\n  <thead>\n    <tr>\n      <th></th>\n      <th>region</th>\n      <th colspan=\"10\" halign=\"left\">Ciudad_de_Buenos_Aires</th>\n      <th>...</th>\n      <th colspan=\"10\" halign=\"left\">Tierra_del_Fuego</th>\n    </tr>\n    <tr>\n      <th></th>\n      <th>col</th>\n      <th>A</th>\n      <th>B</th>\n      <th>C</th>\n      <th>D</th>\n      <th>E</th>\n      <th>F</th>\n      <th>G</th>\n      <th>H</th>\n      <th>I</th>\n      <th>J</th>\n      <th>...</th>\n      <th>I</th>\n      <th>J</th>\n      <th>K</th>\n      <th>L</th>\n      <th>M</th>\n      <th>N</th>\n      <th>O</th>\n      <th>P</th>\n      <th>FD</th>\n      <th>EXP</th>\n    </tr>\n    <tr>\n      <th>region</th>\n      <th>row</th>\n      <th></th>\n      <th></th>\n      <th></th>\n      <th></th>\n      <th></th>\n      <th></th>\n      <th></th>\n      <th></th>\n      <th></th>\n      <th></th>\n      <th></th>\n      <th></th>\n      <th></th>\n      <th></th>\n      <th></th>\n      <th></th>\n      <th></th>\n      <th></th>\n      <th></th>\n      <th></th>\n      <th></th>\n    </tr>\n  </thead>\n  <tbody>\n    <tr>\n      <th rowspan=\"5\" valign=\"top\">Ciudad_de_Buenos_Aires</th>\n      <th>A</th>\n      <td>0.002991</td>\n      <td>0.000111</td>\n      <td>0.000341</td>\n      <td>0.652041</td>\n      <td>0.000343</td>\n      <td>0.000595</td>\n      <td>0.003727</td>\n      <td>0.673836</td>\n      <td>0.000905</td>\n      <td>0.000802</td>\n      <td>...</td>\n      <td>0.000000</td>\n      <td>0.000000</td>\n      <td>0.000000</td>\n      <td>0.000000</td>\n      <td>0.000000</td>\n      <td>0.000000</td>\n      <td>0.000000</td>\n      <td>0.000000</td>\n      <td>0.000000</td>\n      <td>0.000000</td>\n    </tr>\n    <tr>\n      <th>B</th>\n      <td>0.000391</td>\n      <td>0.000057</td>\n      <td>0.002647</td>\n      <td>0.264516</td>\n      <td>0.002964</td>\n      <td>0.056529</td>\n      <td>0.033796</td>\n      <td>0.084181</td>\n      <td>0.051237</td>\n      <td>0.016106</td>\n      <td>...</td>\n      <td>0.000000</td>\n      <td>0.000000</td>\n      <td>0.000000</td>\n      <td>0.000000</td>\n      <td>0.000000</td>\n      <td>0.000000</td>\n      <td>0.000000</td>\n      <td>0.000000</td>\n      <td>0.000000</td>\n      <td>0.000000</td>\n    </tr>\n    <tr>\n      <th>C</th>\n      <td>0.000237</td>\n      <td>0.000046</td>\n      <td>0.120775</td>\n      <td>24.751913</td>\n      <td>2.060684</td>\n      <td>9.909002</td>\n      <td>0.123184</td>\n      <td>0.204613</td>\n      <td>0.116494</td>\n      <td>0.051669</td>\n      <td>...</td>\n      <td>0.000000</td>\n      <td>0.000000</td>\n      <td>0.000000</td>\n      <td>0.000000</td>\n      <td>0.000000</td>\n      <td>0.000000</td>\n      <td>0.000000</td>\n      <td>0.000000</td>\n      <td>0.000000</td>\n      <td>0.000000</td>\n    </tr>\n    <tr>\n      <th>D</th>\n      <td>0.133751</td>\n      <td>0.040704</td>\n      <td>6.283528</td>\n      <td>45.370659</td>\n      <td>1.626190</td>\n      <td>18.935769</td>\n      <td>10.551072</td>\n      <td>26.414299</td>\n      <td>16.172183</td>\n      <td>5.480211</td>\n      <td>...</td>\n      <td>0.000000</td>\n      <td>0.000000</td>\n      <td>0.000000</td>\n      <td>0.000000</td>\n      <td>0.000000</td>\n      <td>0.000000</td>\n      <td>0.000000</td>\n      <td>0.000000</td>\n      <td>0.000000</td>\n      <td>0.000000</td>\n    </tr>\n    <tr>\n      <th>E</th>\n      <td>0.005512</td>\n      <td>0.000253</td>\n      <td>0.556652</td>\n      <td>3.031376</td>\n      <td>3.300959</td>\n      <td>0.513450</td>\n      <td>2.490020</td>\n      <td>2.083785</td>\n      <td>1.737825</td>\n      <td>0.644062</td>\n      <td>...</td>\n      <td>0.000000</td>\n      <td>0.000000</td>\n      <td>0.000000</td>\n      <td>0.000000</td>\n      <td>0.000000</td>\n      <td>0.000000</td>\n      <td>0.000000</td>\n      <td>0.000000</td>\n      <td>0.000000</td>\n      <td>0.000000</td>\n    </tr>\n    <tr>\n      <th>...</th>\n      <th>...</th>\n      <td>...</td>\n      <td>...</td>\n      <td>...</td>\n      <td>...</td>\n      <td>...</td>\n      <td>...</td>\n      <td>...</td>\n      <td>...</td>\n      <td>...</td>\n      <td>...</td>\n      <td>...</td>\n      <td>...</td>\n      <td>...</td>\n      <td>...</td>\n      <td>...</td>\n      <td>...</td>\n      <td>...</td>\n      <td>...</td>\n      <td>...</td>\n      <td>...</td>\n      <td>...</td>\n    </tr>\n    <tr>\n      <th rowspan=\"5\" valign=\"top\">Tierra_del_Fuego</th>\n      <th>N</th>\n      <td>0.000000</td>\n      <td>0.000000</td>\n      <td>0.000000</td>\n      <td>0.000000</td>\n      <td>0.000000</td>\n      <td>0.000000</td>\n      <td>0.000000</td>\n      <td>0.000000</td>\n      <td>0.000000</td>\n      <td>0.000000</td>\n      <td>...</td>\n      <td>0.000376</td>\n      <td>0.000450</td>\n      <td>0.000274</td>\n      <td>0.000590</td>\n      <td>0.000889</td>\n      <td>0.005227</td>\n      <td>0.000445</td>\n      <td>0.000000</td>\n      <td>0.149630</td>\n      <td>0.000013</td>\n    </tr>\n    <tr>\n      <th>O</th>\n      <td>0.000000</td>\n      <td>0.000000</td>\n      <td>0.000000</td>\n      <td>0.000000</td>\n      <td>0.000000</td>\n      <td>0.000000</td>\n      <td>0.000000</td>\n      <td>0.000000</td>\n      <td>0.000000</td>\n      <td>0.000000</td>\n      <td>...</td>\n      <td>0.001398</td>\n      <td>0.000130</td>\n      <td>0.000100</td>\n      <td>0.000590</td>\n      <td>0.001028</td>\n      <td>0.000195</td>\n      <td>0.000192</td>\n      <td>0.000000</td>\n      <td>0.084650</td>\n      <td>0.002361</td>\n    </tr>\n    <tr>\n      <th>P</th>\n      <td>0.000000</td>\n      <td>0.000000</td>\n      <td>0.000000</td>\n      <td>0.000000</td>\n      <td>0.000000</td>\n      <td>0.000000</td>\n      <td>0.000000</td>\n      <td>0.000000</td>\n      <td>0.000000</td>\n      <td>0.000000</td>\n      <td>...</td>\n      <td>0.000363</td>\n      <td>0.000041</td>\n      <td>0.000029</td>\n      <td>0.000156</td>\n      <td>0.000039</td>\n      <td>0.000039</td>\n      <td>0.000023</td>\n      <td>0.000000</td>\n      <td>0.010559</td>\n      <td>0.000488</td>\n    </tr>\n    <tr>\n      <th>VA</th>\n      <td>0.000000</td>\n      <td>0.000000</td>\n      <td>0.000000</td>\n      <td>0.000000</td>\n      <td>0.000000</td>\n      <td>0.000000</td>\n      <td>0.000000</td>\n      <td>0.000000</td>\n      <td>0.000000</td>\n      <td>0.000000</td>\n      <td>...</td>\n      <td>0.192849</td>\n      <td>0.106574</td>\n      <td>0.189294</td>\n      <td>0.220563</td>\n      <td>0.131834</td>\n      <td>0.132185</td>\n      <td>0.086003</td>\n      <td>0.013433</td>\n      <td>0.000000</td>\n      <td>0.000000</td>\n    </tr>\n    <tr>\n      <th>IMP</th>\n      <td>0.000000</td>\n      <td>0.000000</td>\n      <td>0.000000</td>\n      <td>0.000000</td>\n      <td>0.000000</td>\n      <td>0.000000</td>\n      <td>0.000000</td>\n      <td>0.000000</td>\n      <td>0.000000</td>\n      <td>0.000000</td>\n      <td>...</td>\n      <td>0.048478</td>\n      <td>0.001942</td>\n      <td>0.011541</td>\n      <td>0.002541</td>\n      <td>0.000000</td>\n      <td>0.000000</td>\n      <td>0.003918</td>\n      <td>0.000467</td>\n      <td>0.000000</td>\n      <td>0.000000</td>\n    </tr>\n  </tbody>\n</table>\n<p>432 rows × 432 columns</p>\n</div>"
     },
     "metadata": {},
     "execution_count": 89
    }
   ],
   "source": [
    "output_new"
   ]
  },
  {
   "cell_type": "code",
   "execution_count": 71,
   "metadata": {},
   "outputs": [
    {
     "data": {
      "text/plain": "723.1639912728803"
     },
     "execution_count": 71,
     "metadata": {},
     "output_type": "execute_result"
    }
   ],
   "source": [
    "output_new.sum(axis=0).loc[:,'EXP'].sum()"
   ]
  },
  {
   "cell_type": "markdown",
   "metadata": {},
   "source": [
    "## Second iteration, including trade"
   ]
  },
  {
   "cell_type": "markdown",
   "metadata": {},
   "source": [
    "### Load od matrix"
   ]
  },
  {
   "cell_type": "code",
   "execution_count": 72,
   "metadata": {},
   "outputs": [],
   "source": [
    "od_matrix_total = pd.DataFrame(pd.read_excel(os.path.join(data_path,'OD_data','province_ods.xlsx'),\n",
    "                          sheet_name='total',index_col=[0,1],usecols =[0,1,2,3,4,5,6,7])).unstack(1).fillna(0)\n",
    "od_matrix_total.columns.set_levels(['A','G','C','D','B','I'],level=0,inplace=True)\n",
    "od_matrix_total.index = od_matrix_total.index.map(reg_mapper)\n",
    "od_matrix_total = od_matrix_total.stack(0)\n",
    "od_matrix_total.columns = od_matrix_total.columns.map(reg_mapper)\n",
    "od_matrix_total = od_matrix_total.swaplevel(i=-2, j=-1, axis=0)\n",
    "od_matrix_total = od_matrix_total.loc[:, od_matrix_total.columns.notnull()]"
   ]
  },
  {
   "cell_type": "code",
   "execution_count": 73,
   "metadata": {},
   "outputs": [],
   "source": [
    "def est_trade_value(x,output_new,sector):\n",
    "    if (sector is not 'other1') & (sector is not 'other2'):\n",
    "        sec_output = output_new.sum(axis=1).loc[output_new.sum(axis=1).index.get_level_values(1) == sector].reset_index()\n",
    "    else:\n",
    "        sec_output = output_new.sum(axis=1).loc[output_new.sum(axis=1).index.get_level_values(1) == 'IMP'].reset_index()\n",
    "    x['gdp'] = x.gdp*min(sec_output.loc[sec_output.region==x.reg1].values[0][2],sec_output.loc[sec_output.region==x.reg2].values[0][2])\n",
    "#    x['gdp'] = x.gdp*(sec_output.loc[sec_output.region==x.reg1].values[0][2])\n",
    "    return x"
   ]
  },
  {
   "cell_type": "markdown",
   "metadata": {},
   "source": [
    "### Create proxy data for second iteration"
   ]
  },
  {
   "cell_type": "code",
   "execution_count": 75,
   "metadata": {},
   "outputs": [
    {
     "name": "stderr",
     "output_type": "stream",
     "text": "100%|██████████| 18/18 [02:11<00:00,  7.33s/it]\n"
    }
   ],
   "source": [
    "# proxy level 14 \n",
    "mi_index = pd.MultiIndex.from_product([sectors+['other1','other2'], region_names, region_names],\n",
    "                                     names=['sec1', 'reg1','reg2'])\n",
    "\n",
    "for iter_,sector in enumerate(tqdm(sectors+['other1','other2'])):\n",
    "#    if sector in ['L','M','N','O','P']:\n",
    "#        proxy_trade = pd.DataFrame(columns=['year','gdp'],index= mi_index).reset_index()\n",
    "#        proxy_trade['year'] = 2016\n",
    "#        proxy_trade['gdp'] = 0\n",
    "#        proxy_trade = proxy_trade.query(\"reg1 != reg2\")\n",
    "#        proxy_trade = proxy_trade.loc[proxy_trade.sec1 == sector]\n",
    "#        proxy_trade['sec1'] = ['sec'+x if x is not 'other' else 'other1' for x in proxy_trade.sec1 ]\n",
    "#        proxy_trade = proxy_trade[['year','sec1','reg1','reg2','gdp']]\n",
    "#        proxy_trade.columns = ['year','sector','region','region','gdp']\n",
    "#        proxy_trade.to_csv(os.path.join(data_path,'mrio_analysis','proxy_trade_sec{}.csv'.format(sector)),index=False)\n",
    "    if sector in ['A','G','C','D','B','I']:\n",
    "        proxy_trade = (od_matrix_total.sum(level=1).divide(od_matrix_total.sum(level=1).sum(axis=1),axis='rows')).stack(0).reset_index()\n",
    "        proxy_trade.columns = ['reg1','reg2','gdp']\n",
    "        proxy_trade['year'] = 2016\n",
    "        proxy_trade = proxy_trade.apply(lambda x: est_trade_value(x,output_new,sector),axis=1)\n",
    "        proxy_trade['sec1'] = 'sec{}'.format(sector)\n",
    "        proxy_trade = proxy_trade[['year','sec1','reg1','reg2','gdp']]\n",
    "        proxy_trade.columns = ['year','sector','region','region','gdp']\n",
    "        proxy_trade.to_csv(os.path.join('..','mrio_downscaling','proxy_trade14_sec{}.csv'.format(sector)),index=False)\n",
    "    elif (sector is not 'other1') &  (sector is not 'other2') & (sector not in ['A','G','C','D','B','I']): # &  (sector not in ['L','M','N','O','P']):\n",
    "        proxy_trade = (od_matrix_total.sum(level=1).divide(od_matrix_total.sum(level=1).sum(axis=1),axis='rows')).stack(0).reset_index()\n",
    "        #proxy_trade[0].loc[(proxy_trade.origin_province == proxy_trade.destination_province)] = 0.9\n",
    "        #proxy_trade[0].loc[~(proxy_trade.origin_province == proxy_trade.destination_province)] = 0.1\n",
    "        proxy_trade.columns = ['reg1','reg2','gdp']\n",
    "        proxy_trade['year'] = 2016\n",
    "        proxy_trade = proxy_trade.apply(lambda x: est_trade_value(x,output_new,sector),axis=1)\n",
    "        proxy_trade['sec1'] = 'sec{}'.format(sector)\n",
    "        proxy_trade = proxy_trade[['year','sec1','reg1','reg2','gdp']]\n",
    "        proxy_trade.columns = ['year','sector','region','region','gdp']\n",
    "        proxy_trade.to_csv(os.path.join('..','mrio_downscaling','proxy_trade14_sec{}.csv'.format(sector)),index=False)\n",
    "\n",
    "    else:\n",
    "        proxy_trade = (od_matrix_total.sum(level=1).divide(od_matrix_total.sum(level=1).sum(axis=1),axis='rows')).stack(0).reset_index()\n",
    "        proxy_trade.columns = ['reg1','reg2','gdp']\n",
    "        proxy_trade['year'] = 2016\n",
    "        proxy_trade = proxy_trade.apply(lambda x: est_trade_value(x,output_new,sector),axis=1)\n",
    "        proxy_trade['sec1'] = sector+'1'\n",
    "        proxy_trade = proxy_trade[['year','sec1','reg1','reg2','gdp']]\n",
    "        proxy_trade.columns = ['year','sector','region','region','gdp']\n",
    "        proxy_trade.to_csv(os.path.join('..','mrio_downscaling','proxy_trade14_{}.csv'.format(sector)),index=False)       "
   ]
  },
  {
   "cell_type": "code",
   "execution_count": 193,
   "metadata": {},
   "outputs": [
    {
     "name": "stderr",
     "output_type": "stream",
     "text": [
      "100%|██████████████████████████████████████████████████████████████████████████████████| 18/18 [00:02<00:00,  7.16it/s]\n"
     ]
    }
   ],
   "source": [
    "# proxy level 18\n",
    "mi_index = pd.MultiIndex.from_product([sectors+['other1','other2'], region_names, sectors+['other1','other2'], region_names],\n",
    "                                     names=['sec1', 'reg1','sec2','reg2'])\n",
    "for iter_,sector in enumerate(tqdm(sectors+['other1','other2'])):\n",
    "    if (sector is not 'other1') & (sector is not 'other2'):\n",
    "        proxy_trade = pd.DataFrame(columns=['year','gdp'],index= mi_index).reset_index()\n",
    "        proxy_trade['year'] = 2016\n",
    "        proxy_trade['gdp'] = 0\n",
    "        proxy_trade = proxy_trade.query(\"reg1 != reg2\")\n",
    "        proxy_trade = proxy_trade.loc[proxy_trade.sec1 == sector]\n",
    "        proxy_trade = proxy_trade.loc[proxy_trade.sec2.isin(['L','M','N','O','P'])]\n",
    "        proxy_trade['sec1'] = proxy_trade.sec1.apply(change_name)\n",
    "        proxy_trade['sec2'] = proxy_trade.sec2.apply(change_name) \n",
    "        \n",
    "        proxy_trade = proxy_trade.query(\"reg1 == reg2\")    \n",
    "\n",
    "        proxy_trade = proxy_trade[['year','sec1','reg1','sec2','reg2','gdp']]\n",
    "        proxy_trade.columns = ['year','sector','region','sector','region','gdp']\n",
    "        proxy_trade.to_csv(os.path.join(data_path,'mrio_analysis','proxy_trade_sec{}.csv'.format(sector)),index=False)\n",
    "    \n",
    "    else:\n",
    "        proxy_trade = pd.DataFrame(columns=['year','gdp'],index= mi_index).reset_index()\n",
    "        proxy_trade['year'] = 2016\n",
    "        proxy_trade['gdp'] = 0\n",
    "        proxy_trade = proxy_trade.query(\"reg1 != reg2\")    \n",
    "        proxy_trade = proxy_trade.loc[proxy_trade.sec1 == sector]\n",
    "        proxy_trade = proxy_trade.loc[proxy_trade.sec2.isin(['L','M','N','O','P'])]\n",
    "        proxy_trade['sec1'] = proxy_trade.sec1.apply(change_name)\n",
    "        proxy_trade['sec2'] = proxy_trade.sec2.apply(change_name) \n",
    "        \n",
    "        proxy_trade = proxy_trade.query(\"reg1 == reg2\")    \n",
    "\n",
    "        proxy_trade = proxy_trade[['year','sec1','reg1','sec2','reg2','gdp']]\n",
    "        proxy_trade.columns = ['year','sector','region','sector','region','gdp']\n",
    "\n",
    "        proxy_trade.to_csv(os.path.join(data_path,'mrio_analysis','proxy_trade_{}.csv'.format(sector)),index=False)"
   ]
  },
  {
   "cell_type": "code",
   "execution_count": 79,
   "metadata": {},
   "outputs": [
    {
     "name": "stdout",
     "output_type": "stream",
     "text": "Wall time: 54.9 s\n"
    },
    {
     "data": {
      "text/plain": "0"
     },
     "execution_count": 79,
     "metadata": {},
     "output_type": "execute_result"
    }
   ],
   "source": [
    "%%time\n",
    "p = subprocess.Popen(['..\\mrio_downscaling\\mrio_disaggregate', 'settings_trade.yml'],\n",
    "                     cwd=os.path.join('..','mrio_downscaling'))\n",
    "p.wait()"
   ]
  },
  {
   "cell_type": "code",
   "execution_count": 80,
   "metadata": {},
   "outputs": [],
   "source": [
    "region_names_list = [item for sublist in [[x]*(len(sectors)+2) for x in region_names]\n",
    "                     for item in sublist]\n",
    "\n",
    "rows = ([x for x in sectors+['VA','IMP']])*len(region_names)\n",
    "cols = ([x for x in sectors+['FD','EXP']])*len(region_names)\n",
    "\n",
    "index_mi = pd.MultiIndex.from_arrays([region_names_list, rows], names=('region', 'row'))\n",
    "column_mi = pd.MultiIndex.from_arrays([region_names_list, cols], names=('region', 'col'))\n",
    "\n",
    "MRIO = pd.read_csv(os.path.join('..','mrio_downscaling','output2.csv'),header=None,index_col=None)\n",
    "MRIO.index = index_mi\n",
    "MRIO.columns = column_mi\n",
    "\n",
    "# create predefined index and col, which is easier to read\n",
    "sector_only = [x for x in sectors]*len(region_names)\n",
    "col_only = ['FD','EXP']*len(region_names)\n",
    "\n",
    "region_col = [item for sublist in [[x]*len(sectors) for x in region_names] for item in sublist] + \\\n",
    "    [item for sublist in [[x]*2 for x in region_names] for item in sublist]\n",
    "\n",
    "column_mi_reorder = pd.MultiIndex.from_arrays(\n",
    "    [region_col, sector_only+col_only], names=('region', 'col'))\n",
    "\n",
    "# sum va and imports\n",
    "valueA = pd.DataFrame(MRIO.loc[MRIO.index.get_level_values(1) == 'VA'].sum(axis='index'))\n",
    "valueA.columns = pd.MultiIndex.from_product([['Total'],['ValueA']],names=['region','row'])\n",
    "\n",
    "IMP = pd.DataFrame(MRIO.loc[MRIO.index.get_level_values(1) == 'IMP'].sum(axis='index'))\n",
    "IMP.columns = pd.MultiIndex.from_product([['Total'],['IMP']],names=['region','row'])\n",
    "\n",
    "output = pd.concat([MRIO.loc[~MRIO.index.get_level_values(1).isin(['FD','EXP'])]])\n",
    "output = output.drop(['VA','IMP'], level=1)\n",
    "output = pd.concat([output,valueA.T,IMP.T])\n",
    "\n",
    "output = output.reindex(column_mi_reorder, axis='columns')"
   ]
  },
  {
   "cell_type": "code",
   "execution_count": 85,
   "metadata": {},
   "outputs": [
    {
     "data": {
      "text/html": "<div>\n<style scoped>\n    .dataframe tbody tr th:only-of-type {\n        vertical-align: middle;\n    }\n\n    .dataframe tbody tr th {\n        vertical-align: top;\n    }\n\n    .dataframe thead tr th {\n        text-align: left;\n    }\n\n    .dataframe thead tr:last-of-type th {\n        text-align: right;\n    }\n</style>\n<table border=\"1\" class=\"dataframe\">\n  <thead>\n    <tr>\n      <th></th>\n      <th>region</th>\n      <th colspan=\"10\" halign=\"left\">Ciudad_de_Buenos_Aires</th>\n      <th>...</th>\n      <th colspan=\"2\" halign=\"left\">Santa_Cruz</th>\n      <th colspan=\"2\" halign=\"left\">Santa_Fe</th>\n      <th colspan=\"2\" halign=\"left\">Santiago_del_Estero</th>\n      <th colspan=\"2\" halign=\"left\">Tucuman</th>\n      <th colspan=\"2\" halign=\"left\">Tierra_del_Fuego</th>\n    </tr>\n    <tr>\n      <th></th>\n      <th>col</th>\n      <th>A</th>\n      <th>B</th>\n      <th>C</th>\n      <th>D</th>\n      <th>E</th>\n      <th>F</th>\n      <th>G</th>\n      <th>H</th>\n      <th>I</th>\n      <th>J</th>\n      <th>...</th>\n      <th>FD</th>\n      <th>EXP</th>\n      <th>FD</th>\n      <th>EXP</th>\n      <th>FD</th>\n      <th>EXP</th>\n      <th>FD</th>\n      <th>EXP</th>\n      <th>FD</th>\n      <th>EXP</th>\n    </tr>\n    <tr>\n      <th>region</th>\n      <th>row</th>\n      <th></th>\n      <th></th>\n      <th></th>\n      <th></th>\n      <th></th>\n      <th></th>\n      <th></th>\n      <th></th>\n      <th></th>\n      <th></th>\n      <th></th>\n      <th></th>\n      <th></th>\n      <th></th>\n      <th></th>\n      <th></th>\n      <th></th>\n      <th></th>\n      <th></th>\n      <th></th>\n      <th></th>\n    </tr>\n  </thead>\n  <tbody>\n    <tr>\n      <th rowspan=\"5\" valign=\"top\">Ciudad_de_Buenos_Aires</th>\n      <th>A</th>\n      <td>0.965233</td>\n      <td>2.141120e-03</td>\n      <td>0.000570</td>\n      <td>4.117730</td>\n      <td>0.001171</td>\n      <td>0.002407</td>\n      <td>0.009545</td>\n      <td>5.274150e-01</td>\n      <td>0.002439</td>\n      <td>0.000572</td>\n      <td>...</td>\n      <td>0.000000</td>\n      <td>0.000000</td>\n      <td>0.00000</td>\n      <td>0.000000</td>\n      <td>0.000000</td>\n      <td>0.000000e+00</td>\n      <td>0.000000</td>\n      <td>0.000000e+00</td>\n      <td>0.000000</td>\n      <td>0.000000</td>\n    </tr>\n    <tr>\n      <th>B</th>\n      <td>0.009970</td>\n      <td>3.125630e-04</td>\n      <td>0.004107</td>\n      <td>0.186353</td>\n      <td>0.001262</td>\n      <td>0.025093</td>\n      <td>0.009341</td>\n      <td>8.385780e-03</td>\n      <td>0.015968</td>\n      <td>0.001494</td>\n      <td>...</td>\n      <td>0.000000</td>\n      <td>0.000000</td>\n      <td>0.00000</td>\n      <td>0.000000</td>\n      <td>0.000000</td>\n      <td>0.000000e+00</td>\n      <td>0.000000</td>\n      <td>0.000000e+00</td>\n      <td>0.000000</td>\n      <td>0.000000</td>\n    </tr>\n    <tr>\n      <th>C</th>\n      <td>0.002259</td>\n      <td>3.103570e-04</td>\n      <td>1.111350</td>\n      <td>7.434290</td>\n      <td>0.967847</td>\n      <td>3.199180</td>\n      <td>0.023074</td>\n      <td>2.219910e-02</td>\n      <td>0.023120</td>\n      <td>0.005790</td>\n      <td>...</td>\n      <td>0.000000</td>\n      <td>0.000000</td>\n      <td>0.00000</td>\n      <td>0.000000</td>\n      <td>0.000000</td>\n      <td>0.000000e+00</td>\n      <td>0.000000</td>\n      <td>0.000000e+00</td>\n      <td>0.000000</td>\n      <td>0.000000</td>\n    </tr>\n    <tr>\n      <th>D</th>\n      <td>2.868800</td>\n      <td>7.390630e-02</td>\n      <td>1.122680</td>\n      <td>24.138300</td>\n      <td>0.495377</td>\n      <td>6.131270</td>\n      <td>2.312650</td>\n      <td>2.234760e+00</td>\n      <td>3.903040</td>\n      <td>0.483191</td>\n      <td>...</td>\n      <td>0.000000</td>\n      <td>0.000000</td>\n      <td>0.00000</td>\n      <td>0.000000</td>\n      <td>0.000000</td>\n      <td>0.000000e+00</td>\n      <td>0.000000</td>\n      <td>0.000000e+00</td>\n      <td>0.000000</td>\n      <td>0.000000</td>\n    </tr>\n    <tr>\n      <th>E</th>\n      <td>0.093008</td>\n      <td>4.043210e-04</td>\n      <td>0.226487</td>\n      <td>1.344770</td>\n      <td>0.912956</td>\n      <td>0.143111</td>\n      <td>0.488258</td>\n      <td>1.797770e-01</td>\n      <td>0.376582</td>\n      <td>0.061009</td>\n      <td>...</td>\n      <td>0.000000</td>\n      <td>0.000000</td>\n      <td>0.00000</td>\n      <td>0.000000</td>\n      <td>0.000000</td>\n      <td>0.000000e+00</td>\n      <td>0.000000</td>\n      <td>0.000000e+00</td>\n      <td>0.000000</td>\n      <td>0.000000</td>\n    </tr>\n    <tr>\n      <th>...</th>\n      <th>...</th>\n      <td>...</td>\n      <td>...</td>\n      <td>...</td>\n      <td>...</td>\n      <td>...</td>\n      <td>...</td>\n      <td>...</td>\n      <td>...</td>\n      <td>...</td>\n      <td>...</td>\n      <td>...</td>\n      <td>...</td>\n      <td>...</td>\n      <td>...</td>\n      <td>...</td>\n      <td>...</td>\n      <td>...</td>\n      <td>...</td>\n      <td>...</td>\n      <td>...</td>\n      <td>...</td>\n    </tr>\n    <tr>\n      <th rowspan=\"3\" valign=\"top\">Tierra_del_Fuego</th>\n      <th>N</th>\n      <td>0.000023</td>\n      <td>1.099060e-07</td>\n      <td>0.000006</td>\n      <td>0.000009</td>\n      <td>0.000002</td>\n      <td>0.000000</td>\n      <td>0.000021</td>\n      <td>7.222690e-07</td>\n      <td>0.000020</td>\n      <td>0.000104</td>\n      <td>...</td>\n      <td>0.015826</td>\n      <td>0.000002</td>\n      <td>0.01543</td>\n      <td>0.000002</td>\n      <td>0.000709</td>\n      <td>8.010360e-08</td>\n      <td>0.001282</td>\n      <td>1.447990e-07</td>\n      <td>0.017301</td>\n      <td>0.000002</td>\n    </tr>\n    <tr>\n      <th>O</th>\n      <td>0.000000</td>\n      <td>0.000000e+00</td>\n      <td>0.000000</td>\n      <td>0.000000</td>\n      <td>0.000000</td>\n      <td>0.000000</td>\n      <td>0.000000</td>\n      <td>0.000000e+00</td>\n      <td>0.000000</td>\n      <td>0.000000</td>\n      <td>...</td>\n      <td>0.000000</td>\n      <td>0.000000</td>\n      <td>0.00000</td>\n      <td>0.000000</td>\n      <td>0.000000</td>\n      <td>0.000000e+00</td>\n      <td>0.000000</td>\n      <td>0.000000e+00</td>\n      <td>0.013180</td>\n      <td>0.000468</td>\n    </tr>\n    <tr>\n      <th>P</th>\n      <td>0.000000</td>\n      <td>0.000000e+00</td>\n      <td>0.000000</td>\n      <td>0.000000</td>\n      <td>0.000000</td>\n      <td>0.000000</td>\n      <td>0.000000</td>\n      <td>0.000000e+00</td>\n      <td>0.000000</td>\n      <td>0.000000</td>\n      <td>...</td>\n      <td>0.000000</td>\n      <td>0.000000</td>\n      <td>0.00000</td>\n      <td>0.000000</td>\n      <td>0.000000</td>\n      <td>0.000000e+00</td>\n      <td>0.000000</td>\n      <td>0.000000e+00</td>\n      <td>0.001632</td>\n      <td>0.000096</td>\n    </tr>\n    <tr>\n      <th rowspan=\"2\" valign=\"top\">Total</th>\n      <th>ValueA</th>\n      <td>63.599600</td>\n      <td>2.371410e+00</td>\n      <td>37.389700</td>\n      <td>165.815000</td>\n      <td>13.618500</td>\n      <td>41.379200</td>\n      <td>155.776000</td>\n      <td>2.296110e+01</td>\n      <td>66.460900</td>\n      <td>38.383200</td>\n      <td>...</td>\n      <td>0.000000</td>\n      <td>0.000000</td>\n      <td>0.00000</td>\n      <td>0.000000</td>\n      <td>0.000000</td>\n      <td>0.000000e+00</td>\n      <td>0.000000</td>\n      <td>0.000000e+00</td>\n      <td>0.000000</td>\n      <td>0.000000</td>\n    </tr>\n    <tr>\n      <th>IMP</th>\n      <td>1.542310</td>\n      <td>5.378680e-01</td>\n      <td>4.023890</td>\n      <td>91.983000</td>\n      <td>0.907619</td>\n      <td>0.496488</td>\n      <td>5.631110</td>\n      <td>1.426570e+01</td>\n      <td>12.059700</td>\n      <td>0.504760</td>\n      <td>...</td>\n      <td>0.000000</td>\n      <td>0.000000</td>\n      <td>0.00000</td>\n      <td>0.000000</td>\n      <td>0.000000</td>\n      <td>0.000000e+00</td>\n      <td>0.000000</td>\n      <td>0.000000e+00</td>\n      <td>0.000000</td>\n      <td>0.000000</td>\n    </tr>\n  </tbody>\n</table>\n<p>386 rows × 432 columns</p>\n</div>",
      "text/plain": "region                        Ciudad_de_Buenos_Aires                           \\\ncol                                                A             B          C   \nregion                 row                                                      \nCiudad_de_Buenos_Aires A                    0.965233  2.141120e-03   0.000570   \n                       B                    0.009970  3.125630e-04   0.004107   \n                       C                    0.002259  3.103570e-04   1.111350   \n                       D                    2.868800  7.390630e-02   1.122680   \n                       E                    0.093008  4.043210e-04   0.226487   \n...                                              ...           ...        ...   \nTierra_del_Fuego       N                    0.000023  1.099060e-07   0.000006   \n                       O                    0.000000  0.000000e+00   0.000000   \n                       P                    0.000000  0.000000e+00   0.000000   \nTotal                  ValueA              63.599600  2.371410e+00  37.389700   \n                       IMP                  1.542310  5.378680e-01   4.023890   \n\nregion                                                                       \\\ncol                                     D          E          F           G   \nregion                 row                                                    \nCiudad_de_Buenos_Aires A         4.117730   0.001171   0.002407    0.009545   \n                       B         0.186353   0.001262   0.025093    0.009341   \n                       C         7.434290   0.967847   3.199180    0.023074   \n                       D        24.138300   0.495377   6.131270    2.312650   \n                       E         1.344770   0.912956   0.143111    0.488258   \n...                                   ...        ...        ...         ...   \nTierra_del_Fuego       N         0.000009   0.000002   0.000000    0.000021   \n                       O         0.000000   0.000000   0.000000    0.000000   \n                       P         0.000000   0.000000   0.000000    0.000000   \nTotal                  ValueA  165.815000  13.618500  41.379200  155.776000   \n                       IMP      91.983000   0.907619   0.496488    5.631110   \n\nregion                                                             ...  \\\ncol                                       H          I          J  ...   \nregion                 row                                         ...   \nCiudad_de_Buenos_Aires A       5.274150e-01   0.002439   0.000572  ...   \n                       B       8.385780e-03   0.015968   0.001494  ...   \n                       C       2.219910e-02   0.023120   0.005790  ...   \n                       D       2.234760e+00   3.903040   0.483191  ...   \n                       E       1.797770e-01   0.376582   0.061009  ...   \n...                                     ...        ...        ...  ...   \nTierra_del_Fuego       N       7.222690e-07   0.000020   0.000104  ...   \n                       O       0.000000e+00   0.000000   0.000000  ...   \n                       P       0.000000e+00   0.000000   0.000000  ...   \nTotal                  ValueA  2.296110e+01  66.460900  38.383200  ...   \n                       IMP     1.426570e+01  12.059700   0.504760  ...   \n\nregion                        Santa_Cruz           Santa_Fe            \\\ncol                                   FD       EXP       FD       EXP   \nregion                 row                                              \nCiudad_de_Buenos_Aires A        0.000000  0.000000  0.00000  0.000000   \n                       B        0.000000  0.000000  0.00000  0.000000   \n                       C        0.000000  0.000000  0.00000  0.000000   \n                       D        0.000000  0.000000  0.00000  0.000000   \n                       E        0.000000  0.000000  0.00000  0.000000   \n...                                  ...       ...      ...       ...   \nTierra_del_Fuego       N        0.015826  0.000002  0.01543  0.000002   \n                       O        0.000000  0.000000  0.00000  0.000000   \n                       P        0.000000  0.000000  0.00000  0.000000   \nTotal                  ValueA   0.000000  0.000000  0.00000  0.000000   \n                       IMP      0.000000  0.000000  0.00000  0.000000   \n\nregion                        Santiago_del_Estero                 Tucuman  \\\ncol                                            FD           EXP        FD   \nregion                 row                                                  \nCiudad_de_Buenos_Aires A                 0.000000  0.000000e+00  0.000000   \n                       B                 0.000000  0.000000e+00  0.000000   \n                       C                 0.000000  0.000000e+00  0.000000   \n                       D                 0.000000  0.000000e+00  0.000000   \n                       E                 0.000000  0.000000e+00  0.000000   \n...                                           ...           ...       ...   \nTierra_del_Fuego       N                 0.000709  8.010360e-08  0.001282   \n                       O                 0.000000  0.000000e+00  0.000000   \n                       P                 0.000000  0.000000e+00  0.000000   \nTotal                  ValueA            0.000000  0.000000e+00  0.000000   \n                       IMP               0.000000  0.000000e+00  0.000000   \n\nregion                                      Tierra_del_Fuego            \ncol                                     EXP               FD       EXP  \nregion                 row                                              \nCiudad_de_Buenos_Aires A       0.000000e+00         0.000000  0.000000  \n                       B       0.000000e+00         0.000000  0.000000  \n                       C       0.000000e+00         0.000000  0.000000  \n                       D       0.000000e+00         0.000000  0.000000  \n                       E       0.000000e+00         0.000000  0.000000  \n...                                     ...              ...       ...  \nTierra_del_Fuego       N       1.447990e-07         0.017301  0.000002  \n                       O       0.000000e+00         0.013180  0.000468  \n                       P       0.000000e+00         0.001632  0.000096  \nTotal                  ValueA  0.000000e+00         0.000000  0.000000  \n                       IMP     0.000000e+00         0.000000  0.000000  \n\n[386 rows x 432 columns]"
     },
     "execution_count": 85,
     "metadata": {},
     "output_type": "execute_result"
    }
   ],
   "source": [
    "output"
   ]
  },
  {
   "cell_type": "code",
   "execution_count": 81,
   "metadata": {},
   "outputs": [],
   "source": [
    "prov_ratios = pd.DataFrame((prov_data.iloc[:16,:24].stack().swaplevel(i=-2,\n",
    "             j=-1)/sum(prov_data.iloc[:16,:24].stack().swaplevel(i=-2, \n",
    "             j=-1))),columns=['ratio']).reset_index().groupby(['level_0','level_1']).sum().reindex(output.index)[:384]"
   ]
  },
  {
   "cell_type": "code",
   "execution_count": 82,
   "metadata": {},
   "outputs": [],
   "source": [
    "output_ratio = pd.DataFrame((output.sum(level=0,axis=1).sum(axis=1)[:-2]/sum(output.sum(level=0,axis=1).sum(axis=1)[:-2])),columns=['ratio'])"
   ]
  },
  {
   "cell_type": "code",
   "execution_count": 83,
   "metadata": {},
   "outputs": [],
   "source": [
    "new_values = pd.DataFrame(output.sum(level=0,axis=1).sum(axis=1)[:-2],columns=['ratio']).multiply(prov_ratios).divide(output_ratio).fillna(0)"
   ]
  },
  {
   "cell_type": "code",
   "execution_count": 87,
   "metadata": {},
   "outputs": [
    {
     "data": {
      "text/html": "<div>\n<style scoped>\n    .dataframe tbody tr th:only-of-type {\n        vertical-align: middle;\n    }\n\n    .dataframe tbody tr th {\n        vertical-align: top;\n    }\n\n    .dataframe thead tr th {\n        text-align: left;\n    }\n\n    .dataframe thead tr:last-of-type th {\n        text-align: right;\n    }\n</style>\n<table border=\"1\" class=\"dataframe\">\n  <thead>\n    <tr>\n      <th></th>\n      <th>region</th>\n      <th colspan=\"10\" halign=\"left\">Ciudad_de_Buenos_Aires</th>\n      <th>...</th>\n      <th colspan=\"2\" halign=\"left\">Santa_Cruz</th>\n      <th colspan=\"2\" halign=\"left\">Santa_Fe</th>\n      <th colspan=\"2\" halign=\"left\">Santiago_del_Estero</th>\n      <th colspan=\"2\" halign=\"left\">Tucuman</th>\n      <th colspan=\"2\" halign=\"left\">Tierra_del_Fuego</th>\n    </tr>\n    <tr>\n      <th></th>\n      <th>col</th>\n      <th>A</th>\n      <th>B</th>\n      <th>C</th>\n      <th>D</th>\n      <th>E</th>\n      <th>F</th>\n      <th>G</th>\n      <th>H</th>\n      <th>I</th>\n      <th>J</th>\n      <th>...</th>\n      <th>FD</th>\n      <th>EXP</th>\n      <th>FD</th>\n      <th>EXP</th>\n      <th>FD</th>\n      <th>EXP</th>\n      <th>FD</th>\n      <th>EXP</th>\n      <th>FD</th>\n      <th>EXP</th>\n    </tr>\n    <tr>\n      <th>region</th>\n      <th>row</th>\n      <th></th>\n      <th></th>\n      <th></th>\n      <th></th>\n      <th></th>\n      <th></th>\n      <th></th>\n      <th></th>\n      <th></th>\n      <th></th>\n      <th></th>\n      <th></th>\n      <th></th>\n      <th></th>\n      <th></th>\n      <th></th>\n      <th></th>\n      <th></th>\n      <th></th>\n      <th></th>\n      <th></th>\n    </tr>\n  </thead>\n  <tbody>\n    <tr>\n      <th rowspan=\"5\" valign=\"top\">Ciudad_de_Buenos_Aires</th>\n      <th>A</th>\n      <td>0.965233</td>\n      <td>2.141120e-03</td>\n      <td>0.000570</td>\n      <td>4.117730</td>\n      <td>0.001171</td>\n      <td>0.002407</td>\n      <td>0.009545</td>\n      <td>5.274150e-01</td>\n      <td>0.002439</td>\n      <td>0.000572</td>\n      <td>...</td>\n      <td>0.000000</td>\n      <td>0.000000</td>\n      <td>0.00000</td>\n      <td>0.000000</td>\n      <td>0.000000</td>\n      <td>0.000000e+00</td>\n      <td>0.000000</td>\n      <td>0.000000e+00</td>\n      <td>0.000000</td>\n      <td>0.000000</td>\n    </tr>\n    <tr>\n      <th>B</th>\n      <td>0.009970</td>\n      <td>3.125630e-04</td>\n      <td>0.004107</td>\n      <td>0.186353</td>\n      <td>0.001262</td>\n      <td>0.025093</td>\n      <td>0.009341</td>\n      <td>8.385780e-03</td>\n      <td>0.015968</td>\n      <td>0.001494</td>\n      <td>...</td>\n      <td>0.000000</td>\n      <td>0.000000</td>\n      <td>0.00000</td>\n      <td>0.000000</td>\n      <td>0.000000</td>\n      <td>0.000000e+00</td>\n      <td>0.000000</td>\n      <td>0.000000e+00</td>\n      <td>0.000000</td>\n      <td>0.000000</td>\n    </tr>\n    <tr>\n      <th>C</th>\n      <td>0.002259</td>\n      <td>3.103570e-04</td>\n      <td>1.111350</td>\n      <td>7.434290</td>\n      <td>0.967847</td>\n      <td>3.199180</td>\n      <td>0.023074</td>\n      <td>2.219910e-02</td>\n      <td>0.023120</td>\n      <td>0.005790</td>\n      <td>...</td>\n      <td>0.000000</td>\n      <td>0.000000</td>\n      <td>0.00000</td>\n      <td>0.000000</td>\n      <td>0.000000</td>\n      <td>0.000000e+00</td>\n      <td>0.000000</td>\n      <td>0.000000e+00</td>\n      <td>0.000000</td>\n      <td>0.000000</td>\n    </tr>\n    <tr>\n      <th>D</th>\n      <td>2.868800</td>\n      <td>7.390630e-02</td>\n      <td>1.122680</td>\n      <td>24.138300</td>\n      <td>0.495377</td>\n      <td>6.131270</td>\n      <td>2.312650</td>\n      <td>2.234760e+00</td>\n      <td>3.903040</td>\n      <td>0.483191</td>\n      <td>...</td>\n      <td>0.000000</td>\n      <td>0.000000</td>\n      <td>0.00000</td>\n      <td>0.000000</td>\n      <td>0.000000</td>\n      <td>0.000000e+00</td>\n      <td>0.000000</td>\n      <td>0.000000e+00</td>\n      <td>0.000000</td>\n      <td>0.000000</td>\n    </tr>\n    <tr>\n      <th>E</th>\n      <td>0.093008</td>\n      <td>4.043210e-04</td>\n      <td>0.226487</td>\n      <td>1.344770</td>\n      <td>0.912956</td>\n      <td>0.143111</td>\n      <td>0.488258</td>\n      <td>1.797770e-01</td>\n      <td>0.376582</td>\n      <td>0.061009</td>\n      <td>...</td>\n      <td>0.000000</td>\n      <td>0.000000</td>\n      <td>0.00000</td>\n      <td>0.000000</td>\n      <td>0.000000</td>\n      <td>0.000000e+00</td>\n      <td>0.000000</td>\n      <td>0.000000e+00</td>\n      <td>0.000000</td>\n      <td>0.000000</td>\n    </tr>\n    <tr>\n      <th>...</th>\n      <th>...</th>\n      <td>...</td>\n      <td>...</td>\n      <td>...</td>\n      <td>...</td>\n      <td>...</td>\n      <td>...</td>\n      <td>...</td>\n      <td>...</td>\n      <td>...</td>\n      <td>...</td>\n      <td>...</td>\n      <td>...</td>\n      <td>...</td>\n      <td>...</td>\n      <td>...</td>\n      <td>...</td>\n      <td>...</td>\n      <td>...</td>\n      <td>...</td>\n      <td>...</td>\n      <td>...</td>\n    </tr>\n    <tr>\n      <th rowspan=\"3\" valign=\"top\">Tierra_del_Fuego</th>\n      <th>N</th>\n      <td>0.000023</td>\n      <td>1.099060e-07</td>\n      <td>0.000006</td>\n      <td>0.000009</td>\n      <td>0.000002</td>\n      <td>0.000000</td>\n      <td>0.000021</td>\n      <td>7.222690e-07</td>\n      <td>0.000020</td>\n      <td>0.000104</td>\n      <td>...</td>\n      <td>0.015826</td>\n      <td>0.000002</td>\n      <td>0.01543</td>\n      <td>0.000002</td>\n      <td>0.000709</td>\n      <td>8.010360e-08</td>\n      <td>0.001282</td>\n      <td>1.447990e-07</td>\n      <td>0.017301</td>\n      <td>0.000002</td>\n    </tr>\n    <tr>\n      <th>O</th>\n      <td>0.000000</td>\n      <td>0.000000e+00</td>\n      <td>0.000000</td>\n      <td>0.000000</td>\n      <td>0.000000</td>\n      <td>0.000000</td>\n      <td>0.000000</td>\n      <td>0.000000e+00</td>\n      <td>0.000000</td>\n      <td>0.000000</td>\n      <td>...</td>\n      <td>0.000000</td>\n      <td>0.000000</td>\n      <td>0.00000</td>\n      <td>0.000000</td>\n      <td>0.000000</td>\n      <td>0.000000e+00</td>\n      <td>0.000000</td>\n      <td>0.000000e+00</td>\n      <td>0.013180</td>\n      <td>0.000468</td>\n    </tr>\n    <tr>\n      <th>P</th>\n      <td>0.000000</td>\n      <td>0.000000e+00</td>\n      <td>0.000000</td>\n      <td>0.000000</td>\n      <td>0.000000</td>\n      <td>0.000000</td>\n      <td>0.000000</td>\n      <td>0.000000e+00</td>\n      <td>0.000000</td>\n      <td>0.000000</td>\n      <td>...</td>\n      <td>0.000000</td>\n      <td>0.000000</td>\n      <td>0.00000</td>\n      <td>0.000000</td>\n      <td>0.000000</td>\n      <td>0.000000e+00</td>\n      <td>0.000000</td>\n      <td>0.000000e+00</td>\n      <td>0.001632</td>\n      <td>0.000096</td>\n    </tr>\n    <tr>\n      <th rowspan=\"2\" valign=\"top\">Total</th>\n      <th>ValueA</th>\n      <td>63.599600</td>\n      <td>2.371410e+00</td>\n      <td>37.389700</td>\n      <td>165.815000</td>\n      <td>13.618500</td>\n      <td>41.379200</td>\n      <td>155.776000</td>\n      <td>2.296110e+01</td>\n      <td>66.460900</td>\n      <td>38.383200</td>\n      <td>...</td>\n      <td>0.000000</td>\n      <td>0.000000</td>\n      <td>0.00000</td>\n      <td>0.000000</td>\n      <td>0.000000</td>\n      <td>0.000000e+00</td>\n      <td>0.000000</td>\n      <td>0.000000e+00</td>\n      <td>0.000000</td>\n      <td>0.000000</td>\n    </tr>\n    <tr>\n      <th>IMP</th>\n      <td>1.542310</td>\n      <td>5.378680e-01</td>\n      <td>4.023890</td>\n      <td>91.983000</td>\n      <td>0.907619</td>\n      <td>0.496488</td>\n      <td>5.631110</td>\n      <td>1.426570e+01</td>\n      <td>12.059700</td>\n      <td>0.504760</td>\n      <td>...</td>\n      <td>0.000000</td>\n      <td>0.000000</td>\n      <td>0.00000</td>\n      <td>0.000000</td>\n      <td>0.000000</td>\n      <td>0.000000e+00</td>\n      <td>0.000000</td>\n      <td>0.000000e+00</td>\n      <td>0.000000</td>\n      <td>0.000000</td>\n    </tr>\n  </tbody>\n</table>\n<p>386 rows × 432 columns</p>\n</div>",
      "text/plain": "region                        Ciudad_de_Buenos_Aires                           \\\ncol                                                A             B          C   \nregion                 row                                                      \nCiudad_de_Buenos_Aires A                    0.965233  2.141120e-03   0.000570   \n                       B                    0.009970  3.125630e-04   0.004107   \n                       C                    0.002259  3.103570e-04   1.111350   \n                       D                    2.868800  7.390630e-02   1.122680   \n                       E                    0.093008  4.043210e-04   0.226487   \n...                                              ...           ...        ...   \nTierra_del_Fuego       N                    0.000023  1.099060e-07   0.000006   \n                       O                    0.000000  0.000000e+00   0.000000   \n                       P                    0.000000  0.000000e+00   0.000000   \nTotal                  ValueA              63.599600  2.371410e+00  37.389700   \n                       IMP                  1.542310  5.378680e-01   4.023890   \n\nregion                                                                       \\\ncol                                     D          E          F           G   \nregion                 row                                                    \nCiudad_de_Buenos_Aires A         4.117730   0.001171   0.002407    0.009545   \n                       B         0.186353   0.001262   0.025093    0.009341   \n                       C         7.434290   0.967847   3.199180    0.023074   \n                       D        24.138300   0.495377   6.131270    2.312650   \n                       E         1.344770   0.912956   0.143111    0.488258   \n...                                   ...        ...        ...         ...   \nTierra_del_Fuego       N         0.000009   0.000002   0.000000    0.000021   \n                       O         0.000000   0.000000   0.000000    0.000000   \n                       P         0.000000   0.000000   0.000000    0.000000   \nTotal                  ValueA  165.815000  13.618500  41.379200  155.776000   \n                       IMP      91.983000   0.907619   0.496488    5.631110   \n\nregion                                                             ...  \\\ncol                                       H          I          J  ...   \nregion                 row                                         ...   \nCiudad_de_Buenos_Aires A       5.274150e-01   0.002439   0.000572  ...   \n                       B       8.385780e-03   0.015968   0.001494  ...   \n                       C       2.219910e-02   0.023120   0.005790  ...   \n                       D       2.234760e+00   3.903040   0.483191  ...   \n                       E       1.797770e-01   0.376582   0.061009  ...   \n...                                     ...        ...        ...  ...   \nTierra_del_Fuego       N       7.222690e-07   0.000020   0.000104  ...   \n                       O       0.000000e+00   0.000000   0.000000  ...   \n                       P       0.000000e+00   0.000000   0.000000  ...   \nTotal                  ValueA  2.296110e+01  66.460900  38.383200  ...   \n                       IMP     1.426570e+01  12.059700   0.504760  ...   \n\nregion                        Santa_Cruz           Santa_Fe            \\\ncol                                   FD       EXP       FD       EXP   \nregion                 row                                              \nCiudad_de_Buenos_Aires A        0.000000  0.000000  0.00000  0.000000   \n                       B        0.000000  0.000000  0.00000  0.000000   \n                       C        0.000000  0.000000  0.00000  0.000000   \n                       D        0.000000  0.000000  0.00000  0.000000   \n                       E        0.000000  0.000000  0.00000  0.000000   \n...                                  ...       ...      ...       ...   \nTierra_del_Fuego       N        0.015826  0.000002  0.01543  0.000002   \n                       O        0.000000  0.000000  0.00000  0.000000   \n                       P        0.000000  0.000000  0.00000  0.000000   \nTotal                  ValueA   0.000000  0.000000  0.00000  0.000000   \n                       IMP      0.000000  0.000000  0.00000  0.000000   \n\nregion                        Santiago_del_Estero                 Tucuman  \\\ncol                                            FD           EXP        FD   \nregion                 row                                                  \nCiudad_de_Buenos_Aires A                 0.000000  0.000000e+00  0.000000   \n                       B                 0.000000  0.000000e+00  0.000000   \n                       C                 0.000000  0.000000e+00  0.000000   \n                       D                 0.000000  0.000000e+00  0.000000   \n                       E                 0.000000  0.000000e+00  0.000000   \n...                                           ...           ...       ...   \nTierra_del_Fuego       N                 0.000709  8.010360e-08  0.001282   \n                       O                 0.000000  0.000000e+00  0.000000   \n                       P                 0.000000  0.000000e+00  0.000000   \nTotal                  ValueA            0.000000  0.000000e+00  0.000000   \n                       IMP               0.000000  0.000000e+00  0.000000   \n\nregion                                      Tierra_del_Fuego            \ncol                                     EXP               FD       EXP  \nregion                 row                                              \nCiudad_de_Buenos_Aires A       0.000000e+00         0.000000  0.000000  \n                       B       0.000000e+00         0.000000  0.000000  \n                       C       0.000000e+00         0.000000  0.000000  \n                       D       0.000000e+00         0.000000  0.000000  \n                       E       0.000000e+00         0.000000  0.000000  \n...                                     ...              ...       ...  \nTierra_del_Fuego       N       1.447990e-07         0.017301  0.000002  \n                       O       0.000000e+00         0.013180  0.000468  \n                       P       0.000000e+00         0.001632  0.000096  \nTotal                  ValueA  0.000000e+00         0.000000  0.000000  \n                       IMP     0.000000e+00         0.000000  0.000000  \n\n[386 rows x 432 columns]"
     },
     "execution_count": 87,
     "metadata": {},
     "output_type": "execute_result"
    }
   ],
   "source": [
    "output"
   ]
  },
  {
   "cell_type": "code",
   "execution_count": 84,
   "metadata": {},
   "outputs": [
    {
     "name": "stdout",
     "output_type": "stream",
     "text": "1.0856760245210496e+126\n2.3178911094022997e+249\nWall time: 38.5 s\n"
    }
   ],
   "source": [
    "%%time\n",
    "#mrio_arg = ras_method(np.array(output).T,np.array(list(new_values.ratio)+list(output.sum(axis=0)[-48:])),\n",
    "#                      np.array(list(new_values.ratio)+[output.sum(axis=0)[386].sum(),output.sum(axis=0)[387].sum()]), eps=1e-10,print_out=True)\n",
    "mrio_arg = ras_method(np.array(output).T,np.array(list(new_values.ratio)+list(output.sum(axis=0)[-48:])),\n",
    "                      np.array(list(new_values.ratio)+[6948,986]), \n",
    "                      eps=1e-3,print_out=False)"
   ]
  },
  {
   "cell_type": "code",
   "execution_count": 88,
   "metadata": {},
   "outputs": [
    {
     "name": "stdout",
     "output_type": "stream",
     "text": "2.5618693166046106e+58\n1.0816586339080528e+117\n4.566920696245695e+175\n1.928220604169845e+234\n8.141228949742016e+292\n"
    }
   ],
   "source": [
    "mrio_arg = ras_method(np.array(output).T,np.array(list(output.sum(axis=1))[:384]+list(output.sum(axis=0)[-48:])),\n",
    "                      np.array(list(output.sum(axis=1))[:384]+[6948,986]), \n",
    "                      eps=1e-4,print_out=False)"
   ]
  },
  {
   "cell_type": "code",
   "execution_count": 201,
   "metadata": {},
   "outputs": [],
   "source": [
    "mrio_argentina = pd.DataFrame(mrio_arg.T,index=output.index,columns=output.columns)"
   ]
  },
  {
   "cell_type": "code",
   "execution_count": 202,
   "metadata": {},
   "outputs": [],
   "source": [
    "national = mrio_argentina.sum(level=1,axis=0).sum(level=1,axis=1)"
   ]
  },
  {
   "cell_type": "code",
   "execution_count": null,
   "metadata": {},
   "outputs": [],
   "source": []
  },
  {
   "cell_type": "code",
   "execution_count": 152,
   "metadata": {},
   "outputs": [],
   "source": [
    "mrio_argentina.to_csv('D:\\Dropbox\\OIA\\Argentina\\Data\\economic_IO_tables\\output\\mrio_argentina.csv')"
   ]
  }
 ],
 "metadata": {
  "kernelspec": {
   "display_name": "Python 3",
   "language": "python",
   "name": "python3"
  },
  "language_info": {
   "codemirror_mode": {
    "name": "ipython",
    "version": 3
   },
   "file_extension": ".py",
   "mimetype": "text/x-python",
   "name": "python",
   "nbconvert_exporter": "python",
   "pygments_lexer": "ipython3",
   "version": "3.6.7-final"
  }
 },
 "nbformat": 4,
 "nbformat_minor": 4
}